{
 "cells": [
  {
   "cell_type": "code",
   "execution_count": 1,
   "id": "6fb5e862-41e1-45a7-8e5b-3691730b7c4c",
   "metadata": {},
   "outputs": [
    {
     "name": "stdout",
     "output_type": "stream",
     "text": [
      "ï»¿Sample Document\n",
      "\n",
      "Fusce convallis metus id felis luctus adipiscing. Pellentesque egestas, neque si\n",
      "t amet convallis pulvinar, justo nulla eleifend augue, ac auctor orci leo non est. Fusce vel dui. Sed augue ipsum, egestas nec, vestibulum et, malesuada adipiscing, dui. Phasellus viverra nulla ut metus varius laoreet.\n",
      "\n",
      "['\\n', '\\n', 'Nulla facilisi. Phasellus accumsan cursus velit. Curabitur at lacus ac velit ornare lobortis. Maecenas vestibulum mollis diam. Phasellus blandit leo ut odio.\\n', '\\n', '\\n', 'Praesent ac massa at ligula laoreet iaculis. Pellentesque dapibus hendrerit tortor. Nam commodo suscipit quam. Sed a libero. Nullam nulla eros, ultricies sit amet, nonummy id, imperdiet feugiat, pede.\\n', '\\n', '\\n', 'Pellentesque egestas, neque sit amet convallis pulvinar, justo nulla eleifend augue, ac auctor orci leo non est. Curabitur ullamcorper ultricies nisi. Pellentesque posuere. Fusce fermentum. Morbi vestibulum volutpat enim.\\n', '\\n', '\\n', 'In enim justo, rhoncus ut, imperdiet a, venenatis vitae, justo. Curabitur a felis in nunc fringilla tristique. Donec mollis hendrerit risus. Vestibulum turpis sem, aliquet eget, lobortis pellentesque, rutrum eu, nisl. Proin magna.']\n"
     ]
    }
   ],
   "source": [
    "#reading a file\n",
    "f=open(\"sampletext.txt\",'r')\n",
    "print(f.read(100))\n",
    "print(f.readline())\n",
    "print(f.readlines())\n",
    "f.close()"
   ]
  },
  {
   "cell_type": "code",
   "execution_count": 2,
   "id": "86ad41d3-f259-44a7-920a-726daec6d1ac",
   "metadata": {},
   "outputs": [],
   "source": [
    "f=open(\"test.txt\",'w')\n",
    "f.write(\"hello hi\")\n",
    "f.close()\n"
   ]
  },
  {
   "cell_type": "code",
   "execution_count": 3,
   "id": "beda1cff-bafe-4c65-ab39-411db8b84cb9",
   "metadata": {},
   "outputs": [],
   "source": [
    "f=open(\"test.txt\",'a')\n",
    "f.write(\"hello hi\")\n",
    "f.close()\n"
   ]
  },
  {
   "cell_type": "code",
   "execution_count": 4,
   "id": "5a5646bb-588a-44dd-972f-6e83196b1851",
   "metadata": {},
   "outputs": [],
   "source": [
    "import os\n",
    "os.makedirs(\"a/b/d\")"
   ]
  },
  {
   "cell_type": "code",
   "execution_count": null,
   "id": "3ec190b8-1d02-41ff-9681-fd53eb89a7b7",
   "metadata": {},
   "outputs": [],
   "source": []
  }
 ],
 "metadata": {
  "kernelspec": {
   "display_name": "Python 3 (ipykernel)",
   "language": "python",
   "name": "python3"
  },
  "language_info": {
   "codemirror_mode": {
    "name": "ipython",
    "version": 3
   },
   "file_extension": ".py",
   "mimetype": "text/x-python",
   "name": "python",
   "nbconvert_exporter": "python",
   "pygments_lexer": "ipython3",
   "version": "3.13.5"
  }
 },
 "nbformat": 4,
 "nbformat_minor": 5
}
