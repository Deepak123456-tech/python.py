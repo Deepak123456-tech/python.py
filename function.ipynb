{
 "cells": [
  {
   "cell_type": "code",
   "execution_count": 1,
   "id": "572f5846-8b51-4027-bad2-2983579d3615",
   "metadata": {},
   "outputs": [
    {
     "name": "stdout",
     "output_type": "stream",
     "text": [
      "2 is a prime number\n"
     ]
    }
   ],
   "source": [
    "#n=int(input())\n",
    "n=2\n",
    "for i in range(2,n//2+1):\n",
    "    if n %i==0:\n",
    "        print(f\"{n} is not a prime number\")\n",
    "        break\n",
    "else:\n",
    "    print(f\"{n} is a prime number\")\n",
    "    "
   ]
  },
  {
   "cell_type": "code",
   "execution_count": 2,
   "id": "e1108bd5-a3cc-439b-ac21-cbf7bf95efb0",
   "metadata": {},
   "outputs": [
    {
     "name": "stdout",
     "output_type": "stream",
     "text": [
      "15 is not a prime number\n",
      "20 is not a prime number\n",
      "35 is not a prime number\n"
     ]
    }
   ],
   "source": [
    "#15 20  35\n",
    "n1=15\n",
    "for i in  range(2,n1//2+1):\n",
    "    if n1 %i==0:\n",
    "        print(f\"{n1} is not a prime number\")\n",
    "        break\n",
    "else:\n",
    "    print(f\"{n1} is a prime number\")\n",
    "n2=20\n",
    "for i in  range(2,n2//2+1):\n",
    "    if n2 %i==0:\n",
    "        print(f\"{n2} is not a prime number\")\n",
    "        break\n",
    "else:\n",
    "    print(f\"{n2} is a prime number\")\n",
    "n3=35\n",
    "for i in  range(2,n3//2+1):\n",
    "    if n3 %i==0:\n",
    "        print(f\"{n3} is not a prime number\")\n",
    "        break\n",
    "else:\n",
    "    print(f\"{n3} is a prime number\")"
   ]
  },
  {
   "cell_type": "code",
   "execution_count": 3,
   "id": "593b2134-bcc5-44b0-a175-6c4547dbfaa7",
   "metadata": {},
   "outputs": [
    {
     "name": "stdout",
     "output_type": "stream",
     "text": [
      "30\n"
     ]
    }
   ],
   "source": [
    "#without parameters and with return\n",
    "#function definition\n",
    "def addition():\n",
    "    a=10\n",
    "    b=20\n",
    "    return a+b\n",
    "  \n",
    "#funcion calling\n",
    "res=addition()\n",
    "print(res)\n"
   ]
  },
  {
   "cell_type": "code",
   "execution_count": 4,
   "id": "c81cf705-06f1-4f5d-92df-216b1a07aaab",
   "metadata": {},
   "outputs": [
    {
     "name": "stdout",
     "output_type": "stream",
     "text": [
      "30\n"
     ]
    }
   ],
   "source": [
    "#with parameters and without return\n",
    "#function definition\n",
    "def addition(a,b):\n",
    "    print(a+b)\n",
    "#funcion calling\n",
    "c=10\n",
    "d=20\n",
    "addition(c,d)\n",
    "#res=addition(c,d)\n",
    "#print(res)\n"
   ]
  },
  {
   "cell_type": "code",
   "execution_count": 5,
   "id": "f8ca2ded-0dd9-49e2-8c8b-fd121f2cc699",
   "metadata": {},
   "outputs": [
    {
     "name": "stdout",
     "output_type": "stream",
     "text": [
      "30\n",
      "None\n"
     ]
    }
   ],
   "source": [
    "#withparameters and with return\n",
    "#function definition\n",
    "def addition(a,b):\n",
    "    print(a+b)\n",
    "#funcion calling\n",
    "#addition()\n",
    "c=10\n",
    "d=20\n",
    "res=addition(c,d)\n",
    "print(res)"
   ]
  },
  {
   "cell_type": "code",
   "execution_count": 6,
   "id": "46909289-a7aa-4a9a-b899-5ff9e40a0dcd",
   "metadata": {},
   "outputs": [
    {
     "name": "stdout",
     "output_type": "stream",
     "text": [
      "2.0\n"
     ]
    }
   ],
   "source": [
    "#types of arguments\n",
    "\n",
    "#positional arguments\n",
    "#function definition\n",
    "def division(a,b):\n",
    "    if b==0:\n",
    "        return \"zero division not possible\"\n",
    "    return a/b\n",
    "#function calling\n",
    "c,d=10,5\n",
    "res=division(c,d)\n",
    "print(res)"
   ]
  },
  {
   "cell_type": "code",
   "execution_count": 7,
   "id": "d800d041-7567-4b21-88e0-c86e8d6e5e43",
   "metadata": {},
   "outputs": [
    {
     "name": "stdout",
     "output_type": "stream",
     "text": [
      "2.0\n"
     ]
    }
   ],
   "source": [
    "#keyword arguments\n",
    "#function definition\n",
    "def division(a,b):\n",
    "    if b==0:\n",
    "        return \"zero division not possible\"\n",
    "    return a/b\n",
    "#function calling\n",
    "c,d=10,5\n",
    "res=division(b=d,a=c)\n",
    "print(res)"
   ]
  },
  {
   "cell_type": "code",
   "execution_count": 8,
   "id": "b919a0ec-8d34-48d9-b7cb-12437f4d03a3",
   "metadata": {},
   "outputs": [
    {
     "name": "stdout",
     "output_type": "stream",
     "text": [
      "25 20 45\n"
     ]
    }
   ],
   "source": [
    "#default arguments\n",
    "#function definition\n",
    "def addition(a,b,c=0,d=0):\n",
    "    return a+b+c+d\n",
    "#function calling\n",
    "\n",
    "res1=addition(10,15)\n",
    "res2=addition(10,15,-5)\n",
    "res3=addition(10,15,10,10)\n",
    "print(res1,res2,res3)"
   ]
  },
  {
   "cell_type": "code",
   "execution_count": 9,
   "id": "1dc6b21e-72de-47dd-9768-1b0700213def",
   "metadata": {},
   "outputs": [
    {
     "name": "stdout",
     "output_type": "stream",
     "text": [
      "Hello\n",
      "Welcome\n"
     ]
    }
   ],
   "source": [
    "#Varaiable length arguments\n",
    "def myFun(*argv):\n",
    "    for arg in argv:\n",
    "        print(arg)\n",
    "\n",
    "myFun('Hello', 'Welcome',)"
   ]
  },
  {
   "cell_type": "code",
   "execution_count": 10,
   "id": "a699a42d-65e6-49dc-9c08-892e14e097b5",
   "metadata": {},
   "outputs": [
    {
     "name": "stdout",
     "output_type": "stream",
     "text": [
      "s1 == 1\n",
      "s2 == 2\n",
      "s3 == 3\n"
     ]
    }
   ],
   "source": [
    "#keyword variable length arguments\n",
    "def fun(**kwargs):\n",
    "    for k, val in kwargs.items():\n",
    "        print(\"%s == %s\" % (k, val))\n",
    "\n",
    "# Driver code\n",
    "fun(s1='1', s2='2', s3='3')"
   ]
  },
  {
   "cell_type": "code",
   "execution_count": null,
   "id": "645fdf4a-a9b6-4a3b-b607-67a8579ad4a7",
   "metadata": {},
   "outputs": [],
   "source": []
  }
 ],
 "metadata": {
  "kernelspec": {
   "display_name": "Python 3 (ipykernel)",
   "language": "python",
   "name": "python3"
  },
  "language_info": {
   "codemirror_mode": {
    "name": "ipython",
    "version": 3
   },
   "file_extension": ".py",
   "mimetype": "text/x-python",
   "name": "python",
   "nbconvert_exporter": "python",
   "pygments_lexer": "ipython3",
   "version": "3.13.5"
  }
 },
 "nbformat": 4,
 "nbformat_minor": 5
}
