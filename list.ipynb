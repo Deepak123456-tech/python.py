{
 "cells": [
  {
   "cell_type": "code",
   "execution_count": 1,
   "id": "572f5846-8b51-4027-bad2-2983579d3615",
   "metadata": {},
   "outputs": [],
   "source": [
    "#list\n",
    "#create empty list\n",
    "#l=[]\n",
    "#l1=list()\n",
    "#print(type(1),type(l1))\n",
    "\n",
    "#l2=[0]\n",
    "#len(l2)\n"
   ]
  },
  {
   "cell_type": "code",
   "execution_count": 2,
   "id": "f246d6f3-bef9-442c-9354-72b368cdaa5f",
   "metadata": {},
   "outputs": [],
   "source": [
    "#read list of element from user\n",
    "#l3=list(map(int,input().split()))\n",
    "#print(l3)\n",
    "\n",
    "#mutable\n",
    "#l3[0]"
   ]
  },
  {
   "cell_type": "code",
   "execution_count": 3,
   "id": "5416b16b-7a09-4e12-a64b-f7b282a833c0",
   "metadata": {},
   "outputs": [
    {
     "name": "stdout",
     "output_type": "stream",
     "text": [
      "1\n",
      "3\n",
      "5.5\n"
     ]
    }
   ],
   "source": [
    "#index based and sliceable\n",
    "l=[1,2,3,'a','b',5.5,6,1,2,3]\n",
    "print(l[0])\n",
    "print(l[-1])\n",
    "print(l[5])"
   ]
  },
  {
   "cell_type": "code",
   "execution_count": 4,
   "id": "7d25105d-5d9c-4635-81b8-2c3a3fc0621b",
   "metadata": {},
   "outputs": [
    {
     "name": "stdout",
     "output_type": "stream",
     "text": [
      "[1, 2, 3, 4, 5]\n"
     ]
    }
   ],
   "source": [
    "#concasation\n",
    "l1=[1,2,3]\n",
    "l2=[4,5]\n",
    "print(l1+l2)"
   ]
  },
  {
   "cell_type": "code",
   "execution_count": 5,
   "id": "1f29bdd9-f286-4cff-bcdf-2876514ac2c3",
   "metadata": {},
   "outputs": [
    {
     "name": "stdout",
     "output_type": "stream",
     "text": [
      "[1, 2, 3, 1, 2, 3, 1, 2, 3]\n"
     ]
    }
   ],
   "source": [
    "#list repetition using *\n",
    "l3=[1,2,3]\n",
    "print(l3*3)"
   ]
  },
  {
   "cell_type": "code",
   "execution_count": 6,
   "id": "9dfd673d-c4e0-41c0-bdf1-79978f1627aa",
   "metadata": {},
   "outputs": [
    {
     "name": "stdout",
     "output_type": "stream",
     "text": [
      "[1, 2, 3, '3a', 'b', 5.5, 6, 1, 2, 3]\n",
      "[1, 2, 3, '3a', 'b', 5.5, 6, 1, 2, 3, 100]\n",
      "[1, 2, 3, '3a', 'b', 5.5, 6, 1, 2, 3, 100, 200, 300]\n",
      "[1, 2, 3, '3a', 'codegnan', 'b', 5.5, 6, 1, 2, 3, 100, 200, 300]\n"
     ]
    }
   ],
   "source": [
    "#list methods\n",
    "l4=[1,2,3,'3a','b',5.5,6,1,2,3]\n",
    "#append(),extend(),insert()\n",
    "print(l4)\n",
    "l4.append(100)\n",
    "print(l4)\n",
    "l4.extend([200,300])\n",
    "print(l4)\n",
    "l4.insert(4,'codegnan')\n",
    "print(l4)"
   ]
  },
  {
   "cell_type": "code",
   "execution_count": 7,
   "id": "848fff27-7491-4683-8b20-fe8981f92ff8",
   "metadata": {},
   "outputs": [
    {
     "name": "stdout",
     "output_type": "stream",
     "text": [
      "[1, 3, '3a', 'codegnan', 'b', 5.5, 6, 1, 2, 3, 100, 200, 300]\n",
      "[1, 3, '3a', 'codegnan', 'b', 5.5, 6, 1, 2, 3, 100, 200]\n",
      "[1, 3, '3a', 'b', 5.5, 6, 1, 2, 3, 100, 200]\n",
      "[3, '3a', 'b', 5.5, 6, 1, 2, 3, 100, 200]\n",
      "[3, '3a', 6, 1, 2, 3, 100, 200]\n",
      "[3, '3a', 6, 1, 2, 3, 100, 200]\n"
     ]
    }
   ],
   "source": [
    "#remove(),pop(),clear(),del()\n",
    "l4.remove(2)\n",
    "print(l4)\n",
    "l4.pop()\n",
    "print(l4)\n",
    "l4.pop(3)\n",
    "print(l4)\n",
    "del l4[0]\n",
    "print(l4)\n",
    "del l4[2:4]\n",
    "print(l4)\n",
    "l4.clear\n",
    "print(l4)"
   ]
  },
  {
   "cell_type": "code",
   "execution_count": 8,
   "id": "e8b9c6ca-9955-46c5-b7e6-a60e90d0ab20",
   "metadata": {},
   "outputs": [
    {
     "name": "stdout",
     "output_type": "stream",
     "text": [
      "1\n",
      "6\n",
      "2\n",
      "18\n",
      "[1, 1, 2, 2, 3, 3, 6]\n",
      "[6, 3, 3, 2, 2, 1, 1]\n"
     ]
    }
   ],
   "source": [
    "#len(),max(),min(),count(),sum(),sort(),reverse()\n",
    "l5=[1,2,3,6,1,2,3]\n",
    "min_value=min(l5)\n",
    "print(min_value)\n",
    "max_value=max(l5)\n",
    "count_2=l5.count(2)\n",
    "sum_list=sum(l5)\n",
    "print(max_value)\n",
    "print(count_2)\n",
    "print(sum_list)\n",
    "\n",
    "#sort(),reverse()\n",
    "l5.sort()\n",
    "print(l5)\n",
    "l5.reverse()\n",
    "print(l5)\n"
   ]
  },
  {
   "cell_type": "code",
   "execution_count": null,
   "id": "ebcc206f-b7f1-4364-8011-18a4ee1fafce",
   "metadata": {},
   "outputs": [],
   "source": []
  }
 ],
 "metadata": {
  "kernelspec": {
   "display_name": "Python 3 (ipykernel)",
   "language": "python",
   "name": "python3"
  },
  "language_info": {
   "codemirror_mode": {
    "name": "ipython",
    "version": 3
   },
   "file_extension": ".py",
   "mimetype": "text/x-python",
   "name": "python",
   "nbconvert_exporter": "python",
   "pygments_lexer": "ipython3",
   "version": "3.13.5"
  }
 },
 "nbformat": 4,
 "nbformat_minor": 5
}
