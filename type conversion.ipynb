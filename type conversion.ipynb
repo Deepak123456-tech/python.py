{
 "cells": [
  {
   "cell_type": "code",
   "execution_count": 1,
   "id": "1429130f-c7ef-43e5-879a-8887dd94cc29",
   "metadata": {},
   "outputs": [
    {
     "name": "stdout",
     "output_type": "stream",
     "text": [
      "24.0\n",
      "24\n"
     ]
    }
   ],
   "source": [
    "# integert to float , and string conversion \n",
    "num = 24\n",
    "print(float(num))\n",
    "print(str(num))"
   ]
  },
  {
   "cell_type": "code",
   "execution_count": 2,
   "id": "066e27a1-43db-4410-a9f9-4b8d1d86541a",
   "metadata": {},
   "outputs": [
    {
     "name": "stdout",
     "output_type": "stream",
     "text": [
      "<class 'float'>\n",
      "24.0\n"
     ]
    }
   ],
   "source": [
    "# integert to float , and string conversion \n",
    "num = 24\n",
    "float_num = float(num)\n",
    "print(type(float_num))\n",
    "print(float_num)"
   ]
  },
  {
   "cell_type": "code",
   "execution_count": 3,
   "id": "d53ad2b3-5d84-4216-9517-5d8bbb805cb7",
   "metadata": {},
   "outputs": [
    {
     "name": "stdout",
     "output_type": "stream",
     "text": [
      "24\n",
      "24.0\n"
     ]
    }
   ],
   "source": [
    "# Float to integet and string conversion\n",
    "num = 24.0\n",
    "print(int(num))\n",
    "print(str(num))\n"
   ]
  },
  {
   "cell_type": "code",
   "execution_count": 4,
   "id": "e9a28988-ffc0-42b2-8e14-b026f33aaabe",
   "metadata": {},
   "outputs": [
    {
     "name": "stdout",
     "output_type": "stream",
     "text": [
      "123\n",
      "['a', 'b', 'c', '1', '2', '3', 'a', 'b']\n",
      "('a', 'b', 'c', '1', '2', '3', 'a', 'b')\n",
      "{'a', 'c', '2', 'b', '3', '1'}\n"
     ]
    }
   ],
   "source": [
    "# string to integet, list, tuple , set\n",
    "s1 = '123'\n",
    "s2 = 'abc123ab'\n",
    "print(int(s1))\n",
    "print(list(s2))\n",
    "print(tuple(s2))\n",
    "print(set(s2))"
   ]
  },
  {
   "cell_type": "code",
   "execution_count": 6,
   "id": "51ca9aa0-5990-4c18-9621-72369394f97c",
   "metadata": {},
   "outputs": [
    {
     "name": "stdout",
     "output_type": "stream",
     "text": [
      "[1, 2, 'a', 'Codegnan']\n",
      "{1, 2, 'a', 'Codegnan'}\n",
      "(1, 2, 'a', 'Codegnan')\n"
     ]
    },
    {
     "ename": "TypeError",
     "evalue": "cannot convert dictionary update sequence element #0 to a sequence",
     "output_type": "error",
     "traceback": [
      "\u001b[31m---------------------------------------------------------------------------\u001b[39m",
      "\u001b[31mTypeError\u001b[39m                                 Traceback (most recent call last)",
      "\u001b[36mCell\u001b[39m\u001b[36m \u001b[39m\u001b[32mIn[6]\u001b[39m\u001b[32m, line 6\u001b[39m\n\u001b[32m      4\u001b[39m \u001b[38;5;28mprint\u001b[39m(\u001b[38;5;28mset\u001b[39m(lst))\n\u001b[32m      5\u001b[39m \u001b[38;5;28mprint\u001b[39m(\u001b[38;5;28mtuple\u001b[39m(lst))\n\u001b[32m----> \u001b[39m\u001b[32m6\u001b[39m \u001b[38;5;28mprint\u001b[39m(\u001b[38;5;28;43mdict\u001b[39;49m\u001b[43m(\u001b[49m\u001b[43mlst\u001b[49m\u001b[43m)\u001b[49m)\n",
      "\u001b[31mTypeError\u001b[39m: cannot convert dictionary update sequence element #0 to a sequence"
     ]
    }
   ],
   "source": [
    "# list to string, set, tuple\n",
    "lst = [1,2,'a', 'Codegnan']\n",
    "print(str(lst))\n",
    "print(set(lst))\n",
    "print(tuple(lst))\n",
    "print(dict(lst))"
   ]
  },
  {
   "cell_type": "code",
   "execution_count": 7,
   "id": "13304283-c4be-4746-851c-a86475cca3ef",
   "metadata": {},
   "outputs": [
    {
     "name": "stdout",
     "output_type": "stream",
     "text": [
      "{'a': 1, 'b': 2, 'c': 3}\n",
      "['a', 2, 3, 1, 'Codegnan']\n",
      "('a', 2, 3, 1, 'Codegnan')\n"
     ]
    },
    {
     "data": {
      "text/plain": [
       "(1, 2, 3, 'a', 'Codegnan')"
      ]
     },
     "execution_count": 7,
     "metadata": {},
     "output_type": "execute_result"
    }
   ],
   "source": [
    "## list of tuples to dictionary\n",
    "l = [('a',1), ('b',2),('c',3)]\n",
    "print(dict(l))\n",
    "{'a': 1, 'b': 2, 'c': 3}\n",
    "# set to string, list, tuple\n",
    "s = {1,2,3,'a','Codegnan'}\n",
    "print(list(s))\n",
    "print(tuple(s))\n",
    "[1, 2, 3, 'a', 'Codegnan']\n",
    "(1, 2, 3, 'a', 'Codegnan')"
   ]
  },
  {
   "cell_type": "code",
   "execution_count": 8,
   "id": "396acdc7-30b6-4ca5-a3ca-08f9b8a04c7a",
   "metadata": {},
   "outputs": [
    {
     "name": "stdout",
     "output_type": "stream",
     "text": [
      "[1, 2, 3, 'hi']\n",
      "{1, 2, 3, 'hi'}\n"
     ]
    },
    {
     "data": {
      "text/plain": [
       "{1, 2, 3, 'hi'}"
      ]
     },
     "execution_count": 8,
     "metadata": {},
     "output_type": "execute_result"
    }
   ],
   "source": [
    "# tuple to list, set \n",
    "t = (1,2,3,'hi')\n",
    "print(list(t))\n",
    "print(set(t))\n",
    "[1, 2, 3, 'hi']\n",
    "{1, 2, 3, 'hi'}"
   ]
  },
  {
   "cell_type": "code",
   "execution_count": 10,
   "id": "ffdc193f-8e83-4a8d-9639-0caac505084c",
   "metadata": {},
   "outputs": [
    {
     "data": {
      "text/plain": [
       "'problem solving Game\\nWrite a Python program to convert kilometers to miles?\\nWrite a Python program to convert Celsius to Fahrenheit?\\nWrite a Python program to display calendar?\\nWrite a Python program to solve quadratic equation?\\nWrite a Python program to swap two variables without temp variable?'"
      ]
     },
     "execution_count": 10,
     "metadata": {},
     "output_type": "execute_result"
    }
   ],
   "source": [
    "'''problem solving Game\n",
    "Write a Python program to convert kilometers to miles?\n",
    "Write a Python program to convert Celsius to Fahrenheit?\n",
    "Write a Python program to display calendar?\n",
    "Write a Python program to solve quadratic equation?\n",
    "Write a Python program to swap two variables without temp variable?'''"
   ]
  },
  {
   "cell_type": "code",
   "execution_count": 11,
   "id": "eae4a8b6-cd76-49a6-9f8c-df5e2e7a4152",
   "metadata": {},
   "outputs": [
    {
     "name": "stdin",
     "output_type": "stream",
     "text": [
      " 12\n"
     ]
    },
    {
     "name": "stdout",
     "output_type": "stream",
     "text": [
      "7.458048477315103\n"
     ]
    }
   ],
   "source": [
    "# Write a Python program to convert kilometers to miles?\n",
    "km = int(input())\n",
    "miles = km / 1.609\n",
    "print(miles)"
   ]
  },
  {
   "cell_type": "code",
   "execution_count": 12,
   "id": "43b1a4ef-6bbb-428c-b46d-8c617cee2840",
   "metadata": {},
   "outputs": [
    {
     "name": "stdin",
     "output_type": "stream",
     "text": [
      " 12\n"
     ]
    },
    {
     "name": "stdout",
     "output_type": "stream",
     "text": [
      "53.6 F\n"
     ]
    }
   ],
   "source": [
    "# Write a Python program to convert Celsius to Fahrenheit?\n",
    "celsius = int(input())\n",
    "fahrenheit = celsius * 9/5 + 32\n",
    "print(str(fahrenheit)  + ' F')"
   ]
  },
  {
   "cell_type": "code",
   "execution_count": 13,
   "id": "55d4d097-cb63-4c66-a4c4-2ee25e810b77",
   "metadata": {},
   "outputs": [
    {
     "name": "stdin",
     "output_type": "stream",
     "text": [
      " 12\n"
     ]
    },
    {
     "name": "stdout",
     "output_type": "stream",
     "text": [
      "-11.11111111111111\n"
     ]
    }
   ],
   "source": [
    "# Write a Python program to convert Fahrenheit to Celsius?\n",
    "fahrenheit = float(input())\n",
    "Celsius = (fahrenheit-32) * 5/9 \n",
    "print(Celsius)"
   ]
  },
  {
   "cell_type": "code",
   "execution_count": 15,
   "id": "abe9147d-719e-467d-b75c-499aa5fa7ef0",
   "metadata": {},
   "outputs": [
    {
     "name": "stdin",
     "output_type": "stream",
     "text": [
      " 1 2 3\n"
     ]
    },
    {
     "name": "stdout",
     "output_type": "stream",
     "text": [
      "(-0.9999999999999999+1.4142135623730951j) (-1-1.4142135623730951j)\n"
     ]
    }
   ],
   "source": [
    "# Write a Python program to solve quadratic equation?\n",
    "a,b, c = map(int, input().split())\n",
    "numarator = ((b**2) - (4*a*c))**0.5\n",
    "denomi = 2*a\n",
    "root1 = (-b + numarator)/(denomi)\n",
    "root2 = (-b - numarator)/(denomi)\n",
    "print(root1, root2)"
   ]
  },
  {
   "cell_type": "code",
   "execution_count": 16,
   "id": "2e6a0ea0-1065-45b1-8bfc-c61613bc80e1",
   "metadata": {},
   "outputs": [
    {
     "name": "stdout",
     "output_type": "stream",
     "text": [
      "1\n",
      "1  4  12\n"
     ]
    }
   ],
   "source": [
    "s = '1x^2 + 4x + 12'\n",
    "l = s.split('+')\n",
    "print(str(l[0])[:-4])\n",
    "a, b, c = str(l[0])[:-4], str(l[1])[:-2], l[2]\n",
    "print(a,b,c)\n"
   ]
  },
  {
   "cell_type": "code",
   "execution_count": 17,
   "id": "4997bb87-f9e9-4af0-ab76-4147076472dd",
   "metadata": {},
   "outputs": [
    {
     "name": "stdout",
     "output_type": "stream",
     "text": [
      "     July 2025\n",
      "Mo Tu We Th Fr Sa Su\n",
      "    1  2  3  4  5  6\n",
      " 7  8  9 10 11 12 13\n",
      "14 15 16 17 18 19 20\n",
      "21 22 23 24 25 26 27\n",
      "28 29 30 31\n",
      "\n"
     ]
    }
   ],
   "source": [
    "import calendar\n",
    "#print(calendar.calendar(int(input())))\n",
    "print(calendar.month(2025,7))"
   ]
  },
  {
   "cell_type": "code",
   "execution_count": null,
   "id": "87913e81-1642-4d7f-81d9-5666d8b13ddd",
   "metadata": {},
   "outputs": [],
   "source": []
  }
 ],
 "metadata": {
  "kernelspec": {
   "display_name": "Python 3 (ipykernel)",
   "language": "python",
   "name": "python3"
  },
  "language_info": {
   "codemirror_mode": {
    "name": "ipython",
    "version": 3
   },
   "file_extension": ".py",
   "mimetype": "text/x-python",
   "name": "python",
   "nbconvert_exporter": "python",
   "pygments_lexer": "ipython3",
   "version": "3.13.5"
  }
 },
 "nbformat": 4,
 "nbformat_minor": 5
}
