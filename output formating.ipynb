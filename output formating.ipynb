{
 "cells": [
  {
   "cell_type": "code",
   "execution_count": 1,
   "id": "572f5846-8b51-4027-bad2-2983579d3615",
   "metadata": {},
   "outputs": [
    {
     "name": "stdout",
     "output_type": "stream",
     "text": [
      "Name: srinu age: 25 email: srinubabu@gmail.com\n"
     ]
    }
   ],
   "source": [
    "# Using Old Style Formatting [ using Commas ]\n",
    "name = \"srinu\"\n",
    "age = 25\n",
    "email = 'srinubabu@gmail.com'\n",
    "print('Name:',name, 'age:', age, 'email:', email)"
   ]
  },
  {
   "cell_type": "code",
   "execution_count": 3,
   "id": "b5e1ac3f-a303-481b-8f8f-5fd3761998f8",
   "metadata": {},
   "outputs": [
    {
     "name": "stdout",
     "output_type": "stream",
     "text": [
      "abc 23\n"
     ]
    }
   ],
   "source": [
    "print(\"abc\" ,23)"
   ]
  },
  {
   "cell_type": "code",
   "execution_count": 4,
   "id": "8966b205-e65d-450b-ac7c-e8276d743db6",
   "metadata": {},
   "outputs": [
    {
     "name": "stdout",
     "output_type": "stream",
     "text": [
      "20\n"
     ]
    }
   ],
   "source": [
    "n = 10 \n",
    "val = n * 2\n",
    "print(val)"
   ]
  },
  {
   "cell_type": "code",
   "execution_count": 5,
   "id": "bbcdbc7a-457f-43e5-ad3d-8058b6a2c215",
   "metadata": {},
   "outputs": [
    {
     "name": "stdout",
     "output_type": "stream",
     "text": [
      "Name is: srinu , age is: 25 and email is: srinubabu@gmail.com\n"
     ]
    }
   ],
   "source": [
    "'''Using Modulo Operator\n",
    "Format Specifiers\n",
    "%d - intergers\n",
    "%f - Float values\n",
    "%s - Strings'''\n",
    "name = \"srinu\"\n",
    "age = 25\n",
    "email = 'srinubabu@gmail.com'\n",
    "print('Name is: %s , age is: %d and email is: %s'%(name, age, email))"
   ]
  },
  {
   "cell_type": "code",
   "execution_count": 6,
   "id": "07a72be1-8ef1-449b-8a9f-5c74c4de30d8",
   "metadata": {},
   "outputs": [
    {
     "name": "stdout",
     "output_type": "stream",
     "text": [
      "Name is srinu, age is 25 and email srinubabu@gmail.com\n"
     ]
    }
   ],
   "source": [
    "# Using Dot Format Method.\n",
    "name = \"srinu\"\n",
    "age = 25\n",
    "email = 'srinubabu@gmail.com'\n",
    "print('Name is {}, age is {} and email {}'.format(name, age, email))"
   ]
  },
  {
   "cell_type": "code",
   "execution_count": null,
   "id": "4d731b7e-9973-4d66-9941-536862d6af4c",
   "metadata": {},
   "outputs": [],
   "source": []
  }
 ],
 "metadata": {
  "kernelspec": {
   "display_name": "Python 3 (ipykernel)",
   "language": "python",
   "name": "python3"
  },
  "language_info": {
   "codemirror_mode": {
    "name": "ipython",
    "version": 3
   },
   "file_extension": ".py",
   "mimetype": "text/x-python",
   "name": "python",
   "nbconvert_exporter": "python",
   "pygments_lexer": "ipython3",
   "version": "3.13.5"
  }
 },
 "nbformat": 4,
 "nbformat_minor": 5
}
