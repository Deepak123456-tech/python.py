{
 "cells": [
  {
   "cell_type": "code",
   "execution_count": 2,
   "id": "769425a7-028e-413c-a322-18aea2dc9d9e",
   "metadata": {},
   "outputs": [
    {
     "name": "stdout",
     "output_type": "stream",
     "text": [
      "ABC school\n",
      "ABC school\n",
      "xyz school ABC school\n"
     ]
    }
   ],
   "source": [
    "#instance method\n",
    "class student:\n",
    "    school = \"ABC school\"\n",
    "    def __init__(self,name,marks):\n",
    "        self.name=name\n",
    "        self.marks=marks\n",
    "    def change_school(self,new_school):\n",
    "        self.school=new_school\n",
    "\n",
    "s1=student(\"Ravi\",95)\n",
    "print(s1.school)\n",
    "s2=student(\"siva\",90)\n",
    "print(s2.school)\n",
    "s1.change_school(\"xyz school\")\n",
    "print(s1.school,s2.school)"
   ]
  },
  {
   "cell_type": "code",
   "execution_count": 5,
   "id": "15b5dae6-d266-4082-a67a-159236a50c4e",
   "metadata": {},
   "outputs": [
    {
     "name": "stdout",
     "output_type": "stream",
     "text": [
      "ABC school\n",
      "ABC school\n",
      "xyz school xyz school\n"
     ]
    }
   ],
   "source": [
    "#class method\n",
    "class student:\n",
    "    school = \"ABC school\"\n",
    "    def __init__(self,name,marks):\n",
    "        self.name=name\n",
    "        self.marks=marks\n",
    "    @classmethod    \n",
    "    def change_school(cls,new_school):\n",
    "        cls.school=new_school\n",
    "\n",
    "s1=student(\"Ravi\",95)\n",
    "print(s1.school)\n",
    "s2=student(\"siva\",90)\n",
    "print(s2.school)\n",
    "s1.change_school(\"xyz school\")\n",
    "print(s1.school,s2.school)"
   ]
  },
  {
   "cell_type": "code",
   "execution_count": 6,
   "id": "5f4d0b84-f46a-45e9-9f8c-171a69630bb2",
   "metadata": {},
   "outputs": [
    {
     "name": "stdout",
     "output_type": "stream",
     "text": [
      "ABC school\n",
      "student from section c\n"
     ]
    }
   ],
   "source": [
    "#static method\n",
    "class student:\n",
    "    school = \"ABC school\"\n",
    "    def __init__(self,name,marks):\n",
    "        self.name=name\n",
    "        self.marks=marks\n",
    "    @staticmethod    \n",
    "    def details(section):\n",
    "        return f\"student from section {section}\"\n",
    "\n",
    "\n",
    "s1=student(\"Ravi\",95)\n",
    "print(s1.school)\n",
    "print(s1.details(\"c\"))"
   ]
  },
  {
   "cell_type": "code",
   "execution_count": 8,
   "id": "5a26eaf3-ea72-4559-93ec-e6a8306b6024",
   "metadata": {},
   "outputs": [
    {
     "name": "stdout",
     "output_type": "stream",
     "text": [
      "student name is Ravi\n"
     ]
    }
   ],
   "source": [
    "#construtor\n",
    "class student:\n",
    "    school = \"ABC school\"\n",
    "    def __init__(self,name,marks):\n",
    "        self.name=name\n",
    "        self.marks=marks\n",
    "        print(f\"student name is {name}\")\n",
    "\n",
    "s1=student(\"Ravi\",95)"
   ]
  },
  {
   "cell_type": "code",
   "execution_count": null,
   "id": "35ede06c-b778-4e61-8533-c8cf9989f84c",
   "metadata": {},
   "outputs": [],
   "source": []
  }
 ],
 "metadata": {
  "kernelspec": {
   "display_name": "Python 3 (ipykernel)",
   "language": "python",
   "name": "python3"
  },
  "language_info": {
   "codemirror_mode": {
    "name": "ipython",
    "version": 3
   },
   "file_extension": ".py",
   "mimetype": "text/x-python",
   "name": "python",
   "nbconvert_exporter": "python",
   "pygments_lexer": "ipython3",
   "version": "3.13.5"
  }
 },
 "nbformat": 4,
 "nbformat_minor": 5
}
