{
 "cells": [
  {
   "cell_type": "code",
   "execution_count": 1,
   "id": "857787ef-df37-440c-8192-b294cc5ddd6c",
   "metadata": {},
   "outputs": [
    {
     "name": "stdout",
     "output_type": "stream",
     "text": [
      "srinubabu\n"
     ]
    }
   ],
   "source": [
    "#string concation using +\n",
    "s1='srinu'\n",
    "s2='babu'\n",
    "print(s1+s2)"
   ]
  },
  {
   "cell_type": "code",
   "execution_count": 2,
   "id": "f435a3df-864f-4271-9299-bdbf2cfe42b7",
   "metadata": {},
   "outputs": [
    {
     "name": "stdout",
     "output_type": "stream",
     "text": [
      "codegnancodegnancodegnan\n"
     ]
    }
   ],
   "source": [
    "#string repetition using '*'\n",
    "s='codegnan'\n",
    "print(s*3)"
   ]
  },
  {
   "cell_type": "code",
   "execution_count": 3,
   "id": "3fa9e19b-5f93-4fd6-b056-1d5e31bf6821",
   "metadata": {},
   "outputs": [
    {
     "name": "stdout",
     "output_type": "stream",
     "text": [
      "i am from india\n",
      "I AM FROM INDIA\n",
      "i AM FROM iNDIa\n",
      "I Am From India\n",
      "I am from india\n"
     ]
    }
   ],
   "source": [
    "##case conversion\n",
    "s=\"I am from IndiA\"\n",
    "print(s.lower())\n",
    "print(s.upper())\n",
    "print(s.swapcase())\n",
    "print(s.title())\n",
    "print(s.capitalize())"
   ]
  },
  {
   "cell_type": "code",
   "execution_count": 4,
   "id": "5b5ecf5d-56c3-42f9-9a94-e834eb67a124",
   "metadata": {},
   "outputs": [
    {
     "name": "stdout",
     "output_type": "stream",
     "text": [
      "  abc  \n",
      "abc\n",
      "<built-in method lstrip of str object at 0x0000026214794150>\n",
      "<built-in method rstrip of str object at 0x0000026214794150>\n"
     ]
    }
   ],
   "source": [
    "##remove white spaces\n",
    "s='  abc  '\n",
    "print(s)\n",
    "print(s.strip())\n",
    "print(s.lstrip)\n",
    "print(s.rstrip)\n"
   ]
  },
  {
   "cell_type": "code",
   "execution_count": 5,
   "id": "533e8400-86c0-4d87-8d45-a0906a5e80c1",
   "metadata": {},
   "outputs": [
    {
     "name": "stdout",
     "output_type": "stream",
     "text": [
      "2\n",
      "-1\n",
      "2\n"
     ]
    }
   ],
   "source": [
    "#find(),index()\n",
    "s='I am a python programmer'\n",
    "print(s.find('a'))\n",
    "print(s.find('k'))\n",
    "print(s.index('a'))\n",
    "#print(s.index('k'))\n"
   ]
  },
  {
   "cell_type": "code",
   "execution_count": 6,
   "id": "3d47262a-01e9-4f62-94a1-2580666f3566",
   "metadata": {},
   "outputs": [
    {
     "name": "stdout",
     "output_type": "stream",
     "text": [
      "I am a java programmer\n"
     ]
    }
   ],
   "source": [
    "#replace()\n",
    "s='I am a python programmer'\n",
    "print(s.replace('python','java'))"
   ]
  },
  {
   "cell_type": "code",
   "execution_count": 7,
   "id": "4c0dc7d1-352a-4919-8f82-f94405eae0d0",
   "metadata": {},
   "outputs": [
    {
     "name": "stdout",
     "output_type": "stream",
     "text": [
      "['I', 'am', 'a', 'python', 'programmer']\n"
     ]
    }
   ],
   "source": [
    "#split()\n",
    "s='I am a python programmer'\n",
    "print(s.split())"
   ]
  },
  {
   "cell_type": "code",
   "execution_count": 8,
   "id": "25605cdd-ed34-4b48-91dc-fe14c1437bcb",
   "metadata": {},
   "outputs": [
    {
     "name": "stdout",
     "output_type": "stream",
     "text": [
      "Iamapythonprogrammer\n"
     ]
    }
   ],
   "source": [
    "#join()\n",
    "s=['I', 'am', 'a', 'python', 'programmer']\n",
    "print(\"\".join(s))\n"
   ]
  },
  {
   "cell_type": "code",
   "execution_count": 9,
   "id": "746baecd-82bc-465b-a956-867b6778e42f",
   "metadata": {},
   "outputs": [
    {
     "name": "stdout",
     "output_type": "stream",
     "text": [
      "True\n",
      "True\n",
      "True\n"
     ]
    }
   ],
   "source": [
    "#checking\n",
    "s1='abcd'\n",
    "s2='abcd1234'\n",
    "s3='1234'\n",
    "print(s1.isalpha())\n",
    "print(s2.isalnum())\n",
    "print(s3.isdigit())\n"
   ]
  },
  {
   "cell_type": "code",
   "execution_count": 10,
   "id": "76f75f29-419d-46a6-95b6-ed00639bb257",
   "metadata": {},
   "outputs": [
    {
     "name": "stdout",
     "output_type": "stream",
     "text": [
      "False\n",
      "True\n"
     ]
    }
   ],
   "source": [
    "#string comparision\n",
    "s1='abcd'\n",
    "s2='abde'\n",
    "print(s1>s2)\n",
    "print(s1<s2)\n"
   ]
  },
  {
   "cell_type": "code",
   "execution_count": null,
   "id": "cedfc099-c66e-480c-882f-2cf757358fb4",
   "metadata": {},
   "outputs": [],
   "source": []
  }
 ],
 "metadata": {
  "kernelspec": {
   "display_name": "Python 3 (ipykernel)",
   "language": "python",
   "name": "python3"
  },
  "language_info": {
   "codemirror_mode": {
    "name": "ipython",
    "version": 3
   },
   "file_extension": ".py",
   "mimetype": "text/x-python",
   "name": "python",
   "nbconvert_exporter": "python",
   "pygments_lexer": "ipython3",
   "version": "3.13.5"
  }
 },
 "nbformat": 4,
 "nbformat_minor": 5
}
