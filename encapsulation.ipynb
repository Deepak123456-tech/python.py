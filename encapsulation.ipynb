{
 "cells": [
  {
   "cell_type": "code",
   "execution_count": 6,
   "id": "a4d2e5ca-faf5-4326-a0f8-9eff9311fa0b",
   "metadata": {},
   "outputs": [
    {
     "name": "stdout",
     "output_type": "stream",
     "text": [
      "Alice\n",
      "Name: Alice, Age: 20\n"
     ]
    }
   ],
   "source": [
    "#public access specifier\n",
    "class Student:\n",
    "    def __init__(self, name, age):\n",
    "        self.name = name  # Public attribute\n",
    "        self.age = age    # Public attribute\n",
    "\n",
    "    def display_info(self):  # Public method\n",
    "        print(f\"Name: {self.name}, Age: {self.age}\")\n",
    "\n",
    "# Creating an instance of Student\n",
    "student1 = Student(\"Alice\", 20)\n",
    "\n",
    "# Accessing public members\n",
    "print(student1.name)  # Output: Alice\n",
    "student1.display_info()  # Output: Name: Alice, Age: 20\n",
    "    "
   ]
  },
  {
   "cell_type": "code",
   "execution_count": 7,
   "id": "34fc7f2c-4e6b-4680-8a35-46f1c5f42a39",
   "metadata": {},
   "outputs": [
    {
     "name": "stdout",
     "output_type": "stream",
     "text": [
      "Bob\n",
      "Bob's salary is $50000\n"
     ]
    }
   ],
   "source": [
    "#protected access specifier\n",
    "class Employee:\n",
    "    def __init__(self, name, salary):\n",
    "        self._name = name      # Protected attribute\n",
    "        self._salary = salary  # Protected attribute\n",
    "\n",
    "    def _display_salary(self):  # Protected method\n",
    "        print(f\"{self._name}'s salary is ${self._salary}\")\n",
    "\n",
    "# Creating an instance of Employee\n",
    "emp1 = Employee(\"Bob\", 50000)\n",
    "\n",
    "# Accessing protected members (Note: This is possible but not recommended)\n",
    "print(emp1._name)  # Output: Bob\n",
    "emp1._display_salary()  # Output: Bob's salary is $50000"
   ]
  },
  {
   "cell_type": "code",
   "execution_count": 8,
   "id": "23d885ab-e9e1-4693-82e7-4b43d5b3a160",
   "metadata": {},
   "outputs": [
    {
     "name": "stdout",
     "output_type": "stream",
     "text": [
      "Balance: $1000\n"
     ]
    }
   ],
   "source": [
    "#private access specifier\n",
    "class BankAccount:\n",
    "    def __init__(self, account_number, balance):\n",
    "        self.__account_number = account_number  # Private attribute\n",
    "        self.__balance = balance                # Private attribute\n",
    "\n",
    "    def __display_balance(self):  # Private method\n",
    "        print(f\"Balance: ${self.__balance}\")\n",
    "\n",
    "    def public_display(self):\n",
    "        self.__display_balance()\n",
    "\n",
    "# Creating an instance of BankAccount\n",
    "account1 = BankAccount(\"123456\", 1000)\n",
    "\n",
    "# Trying to access private members\n",
    "# print(account1.__account_number)  # This will raise an AttributeError\n",
    "# account1.__display_balance()      # This will also raise an AttributeError\n",
    "\n",
    "# Accessing private method through a public method\n",
    "account1.public_display()  # Output: Balance: $1000"
   ]
  },
  {
   "cell_type": "code",
   "execution_count": null,
   "id": "cdf3bcb3-8991-49d6-8894-f36528167b4d",
   "metadata": {},
   "outputs": [],
   "source": []
  }
 ],
 "metadata": {
  "kernelspec": {
   "display_name": "Python 3 (ipykernel)",
   "language": "python",
   "name": "python3"
  },
  "language_info": {
   "codemirror_mode": {
    "name": "ipython",
    "version": 3
   },
   "file_extension": ".py",
   "mimetype": "text/x-python",
   "name": "python",
   "nbconvert_exporter": "python",
   "pygments_lexer": "ipython3",
   "version": "3.13.5"
  }
 },
 "nbformat": 4,
 "nbformat_minor": 5
}
