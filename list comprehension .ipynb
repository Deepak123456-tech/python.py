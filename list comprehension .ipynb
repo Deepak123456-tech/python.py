{
 "cells": [
  {
   "cell_type": "code",
   "execution_count": 1,
   "id": "d208f834-cac9-4d3a-a2cb-456b19400bc6",
   "metadata": {},
   "outputs": [
    {
     "name": "stdout",
     "output_type": "stream",
     "text": [
      "[1, 2, 3, 4, 5, 6, 7, 8, 9]\n"
     ]
    }
   ],
   "source": [
    "#list compression\n",
    "#syntax:[expression for iterator  initerable condition]\n",
    "lt=[]\n",
    "lt=[x for x in range(1,10)]\n",
    "print(lt)\n",
    "\n"
   ]
  },
  {
   "cell_type": "code",
   "execution_count": 2,
   "id": "fd1e0588-aea3-4cbe-b6e7-9f5ddc545473",
   "metadata": {},
   "outputs": [
    {
     "name": "stdout",
     "output_type": "stream",
     "text": [
      "[2, 4, 6, 8, 10, 12, 14, 16, 18, 20]\n"
     ]
    }
   ],
   "source": [
    "#print list even numbers between numbers\n",
    "even=[x for x in range (1,21) if x%2==0]\n",
    "print(even)\n"
   ]
  },
  {
   "cell_type": "code",
   "execution_count": 5,
   "id": "e5737692-2ef3-4568-b00e-bfb5c0fa9613",
   "metadata": {},
   "outputs": [
    {
     "name": "stdout",
     "output_type": "stream",
     "text": [
      "[1, 3, 5, 7, 9, 11, 13, 15, 17, 19]\n"
     ]
    }
   ],
   "source": [
    "#print list odd numbers between 1-20\n",
    "odd=[x for x in range(1,21) if x%2]\n",
    "print(odd)\n"
   ]
  },
  {
   "cell_type": "code",
   "execution_count": 8,
   "id": "08c0df53-8f0c-49bb-b279-8aa4664827b3",
   "metadata": {},
   "outputs": [
    {
     "name": "stdout",
     "output_type": "stream",
     "text": [
      "[2, 6, 24, 86, 888]\n"
     ]
    }
   ],
   "source": [
    "#find even numbers\n",
    "l=[2,25,3,5,6,65,24,86,888]\n",
    "even=[l[x] for x in range (len(l)) if not l[x]%2]\n",
    "print(even)\n",
    "      "
   ]
  },
  {
   "cell_type": "code",
   "execution_count": 10,
   "id": "b8158695-12f6-4586-aa45-147cfa11e3a9",
   "metadata": {},
   "outputs": [
    {
     "name": "stdout",
     "output_type": "stream",
     "text": [
      "['2-even ', '25-odd', '3-odd', '5-odd', '6-even ', '65-odd', '24-even ', '86-even ', '888-even ']\n"
     ]
    }
   ],
   "source": [
    "l=[2,25,3,5,6,65,24,86,888]\n",
    "res=[f\"{x}-even \"if  x%2==0 else f\"{x}-odd\" for x in l]\n",
    "print(res)\n"
   ]
  },
  {
   "cell_type": "code",
   "execution_count": 11,
   "id": "5d5464c5-e8d8-4a7b-9853-6e38b8c7974c",
   "metadata": {},
   "outputs": [
    {
     "name": "stdout",
     "output_type": "stream",
     "text": [
      "[(1, 1), (1, 2), (1, 3), (1, 4), (2, 1), (2, 2), (2, 3), (2, 4), (3, 1), (3, 2), (3, 3), (3, 4), (4, 1), (4, 2), (4, 3), (4, 4), (5, 1), (5, 2), (5, 3), (5, 4)]\n"
     ]
    }
   ],
   "source": [
    "#nested loops in list comprehension \n",
    "l=[(i,j) for i in range(1,6) for j in range (1,5)]\n",
    "print(l)\n"
   ]
  },
  {
   "cell_type": "code",
   "execution_count": 20,
   "id": "86fced32-94e6-46cc-87d9-336bee8d2eba",
   "metadata": {},
   "outputs": [
    {
     "name": "stdout",
     "output_type": "stream",
     "text": [
      "[(1, 5), (2, 4), (3, 3), (4, 2), (5, 1)]\n"
     ]
    }
   ],
   "source": [
    "#find total combination of two dices\n",
    "l=[(i,j) for i in range(1,7) for j in range (1,7) if i+j==6]\n",
    "print(l)\n"
   ]
  },
  {
   "cell_type": "code",
   "execution_count": null,
   "id": "05d9e775-76ff-49d1-a6cb-8d9bef02df65",
   "metadata": {},
   "outputs": [],
   "source": []
  }
 ],
 "metadata": {
  "kernelspec": {
   "display_name": "Python 3 (ipykernel)",
   "language": "python",
   "name": "python3"
  },
  "language_info": {
   "codemirror_mode": {
    "name": "ipython",
    "version": 3
   },
   "file_extension": ".py",
   "mimetype": "text/x-python",
   "name": "python",
   "nbconvert_exporter": "python",
   "pygments_lexer": "ipython3",
   "version": "3.13.5"
  }
 },
 "nbformat": 4,
 "nbformat_minor": 5
}
