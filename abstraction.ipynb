{
 "cells": [
  {
   "cell_type": "code",
   "execution_count": 2,
   "id": "29219a9b-77bc-4849-940d-779981217e49",
   "metadata": {},
   "outputs": [
    {
     "name": "stdout",
     "output_type": "stream",
     "text": [
      "abstract method\n",
      "concrete method\n"
     ]
    }
   ],
   "source": [
    "#abstraction \n",
    "from abc import ABC, abstractmethod\n",
    "class democlass(ABC):\n",
    "   @abstractmethod\n",
    "   def method1(self):\n",
    "      print (\"abstract method\")\n",
    "      return\n",
    "   def method2(self):\n",
    "      print (\"concrete method\")\n",
    "\n",
    "class concreteclass(democlass):\n",
    "   def method1(self):\n",
    "      super().method1()\n",
    "      return\n",
    "      \n",
    "obj = concreteclass()\n",
    "obj.method1()\n",
    "obj.method2()"
   ]
  },
  {
   "cell_type": "code",
   "execution_count": null,
   "id": "3f88dd85-f543-49ff-b4f7-3628f8e428d9",
   "metadata": {},
   "outputs": [],
   "source": []
  }
 ],
 "metadata": {
  "kernelspec": {
   "display_name": "Python 3 (ipykernel)",
   "language": "python",
   "name": "python3"
  },
  "language_info": {
   "codemirror_mode": {
    "name": "ipython",
    "version": 3
   },
   "file_extension": ".py",
   "mimetype": "text/x-python",
   "name": "python",
   "nbconvert_exporter": "python",
   "pygments_lexer": "ipython3",
   "version": "3.13.5"
  }
 },
 "nbformat": 4,
 "nbformat_minor": 5
}
