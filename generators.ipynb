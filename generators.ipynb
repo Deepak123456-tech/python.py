{
 "cells": [
  {
   "cell_type": "code",
   "execution_count": 2,
   "id": "b5c170d2-73e0-417a-87a4-a93aec37ff85",
   "metadata": {},
   "outputs": [
    {
     "name": "stdout",
     "output_type": "stream",
     "text": [
      "<generator object gen at 0x000001CB5ED80700>\n"
     ]
    }
   ],
   "source": [
    "def gen(x):\n",
    "    while i < x:\n",
    "        yield i\n",
    "        i += 1\n",
    "res=gen(10)\n",
    "print(res)"
   ]
  },
  {
   "cell_type": "code",
   "execution_count": 4,
   "id": "89dd3795-8d87-4819-a812-ead7e6e26cd8",
   "metadata": {},
   "outputs": [
    {
     "name": "stdout",
     "output_type": "stream",
     "text": [
      "0\n",
      "1\n",
      "2\n",
      "3\n",
      "4\n",
      "5\n",
      "6\n",
      "7\n",
      "8\n",
      "9\n"
     ]
    }
   ],
   "source": [
    "def gen(x):\n",
    "    i= 0\n",
    "    while i < x:\n",
    "        yield i\n",
    "        i += 1\n",
    "res=gen(10)\n",
    "#print(res)\n",
    "for num in res:\n",
    "    print(num)"
   ]
  },
  {
   "cell_type": "code",
   "execution_count": 6,
   "id": "97f3d739-3076-47f2-91ab-18b98f8a64a8",
   "metadata": {},
   "outputs": [
    {
     "name": "stdout",
     "output_type": "stream",
     "text": [
      "iteration:1\n",
      "0\n",
      "iteration:2\n",
      "1\n",
      "iteration:3\n"
     ]
    }
   ],
   "source": [
    "def gen(x):\n",
    "    i =0\n",
    "    while i < x:\n",
    "        yield i\n",
    "        i += 1\n",
    "res=gen(3)\n",
    "print(\"iteration:1\")\n",
    "print(next(res))\n",
    "print(\"iteration:2\")\n",
    "print(next(res))\n",
    "print(\"iteration:3\")\n",
    "# print(next(res)) #stop iteration error"
   ]
  },
  {
   "cell_type": "code",
   "execution_count": 9,
   "id": "84d90030-6b78-47df-ab82-f2b433c5dcfb",
   "metadata": {},
   "outputs": [
    {
     "name": "stdout",
     "output_type": "stream",
     "text": [
      "8448728\n",
      "<class 'generator'>\n",
      "192\n"
     ]
    }
   ],
   "source": [
    "# generators takes less memory\n",
    "import sys\n",
    "lst=[i for  i in range(1_000_000)]\n",
    "print(sys.getsizeof(lst))\n",
    "gen=(i  for  i in range(1_000_000))\n",
    "print(type(gen))\n",
    "print(sys.getsizeof(gen))"
   ]
  },
  {
   "cell_type": "code",
   "execution_count": null,
   "id": "e997bbf4-21c5-45dd-ab53-d339761b0895",
   "metadata": {},
   "outputs": [],
   "source": []
  }
 ],
 "metadata": {
  "kernelspec": {
   "display_name": "Python 3 (ipykernel)",
   "language": "python",
   "name": "python3"
  },
  "language_info": {
   "codemirror_mode": {
    "name": "ipython",
    "version": 3
   },
   "file_extension": ".py",
   "mimetype": "text/x-python",
   "name": "python",
   "nbconvert_exporter": "python",
   "pygments_lexer": "ipython3",
   "version": "3.13.5"
  }
 },
 "nbformat": 4,
 "nbformat_minor": 5
}
