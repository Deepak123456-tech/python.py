{
 "cells": [
  {
   "cell_type": "code",
   "execution_count": 1,
   "id": "c8c4a1c6-85d5-4281-9d8f-50fc37683ba7",
   "metadata": {
    "scrolled": true
   },
   "outputs": [
    {
     "name": "stdout",
     "output_type": "stream",
     "text": [
      "1\n",
      "2\n",
      "3\n",
      "4\n",
      "5\n"
     ]
    }
   ],
   "source": [
    "#recursive function\n",
    "def fun(x):\n",
    "    if x==1:\n",
    "        print(1)\n",
    "        return\n",
    "    fun(x-1)\n",
    "    print(x)\n",
    "fun(5)\n"
   ]
  },
  {
   "cell_type": "code",
   "execution_count": 2,
   "id": "7bcd123f-8210-4dd7-880f-6eb7ec8884ca",
   "metadata": {},
   "outputs": [
    {
     "data": {
      "text/plain": [
       "13"
      ]
     },
     "execution_count": 2,
     "metadata": {},
     "output_type": "execute_result"
    }
   ],
   "source": [
    "#febinocci series\n",
    "def febinocci(x):\n",
    "    if x<=1:\n",
    "        return 0\n",
    "    elif x==2:\n",
    "        return 1\n",
    "    else:\n",
    "        return febinocci(x-1)+febinocci(x-2)\n",
    "febinocci(8)\n"
   ]
  },
  {
   "cell_type": "code",
   "execution_count": null,
   "id": "999023f0-1a88-4e34-843a-9a5010889fc8",
   "metadata": {},
   "outputs": [],
   "source": []
  }
 ],
 "metadata": {
  "kernelspec": {
   "display_name": "Python 3 (ipykernel)",
   "language": "python",
   "name": "python3"
  },
  "language_info": {
   "codemirror_mode": {
    "name": "ipython",
    "version": 3
   },
   "file_extension": ".py",
   "mimetype": "text/x-python",
   "name": "python",
   "nbconvert_exporter": "python",
   "pygments_lexer": "ipython3",
   "version": "3.13.5"
  }
 },
 "nbformat": 4,
 "nbformat_minor": 5
}
