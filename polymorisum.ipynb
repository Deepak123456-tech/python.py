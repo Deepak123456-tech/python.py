{
 "cells": [
  {
   "cell_type": "code",
   "execution_count": 1,
   "id": "8ad3a270-db1a-4f1e-a292-25df81f69308",
   "metadata": {},
   "outputs": [
    {
     "name": "stdout",
     "output_type": "stream",
     "text": [
      "Quack, quack!\n",
      "I'm similar to a duck!\n"
     ]
    }
   ],
   "source": [
    "#polymorphism\n",
    "class Duck:\n",
    "   def sound(self):\n",
    "      return \"Quack, quack!\"\n",
    "\n",
    "class AnotherBird:\n",
    "   def sound(self):\n",
    "      return \"I'm similar to a duck!\"\n",
    "\n",
    "def makeSound(duck):\n",
    "   print(duck.sound())\n",
    "\n",
    "# creating instances\n",
    "duck = Duck()\n",
    "anotherBird = AnotherBird()\n",
    "# calling methods\n",
    "makeSound(duck)   \n",
    "makeSound(anotherBird) "
   ]
  },
  {
   "cell_type": "code",
   "execution_count": 4,
   "id": "031bb84a-3414-4879-b95b-b81a18cb38a1",
   "metadata": {},
   "outputs": [
    {
     "name": "stdout",
     "output_type": "stream",
     "text": [
      "Total salary for Rajesh is Rs 9000\n",
      "Total salary for Kiran is Rs 11000\n"
     ]
    }
   ],
   "source": [
    "#method overriding\n",
    "class Employee:\n",
    "   def __init__(self,nm, sal):\n",
    "      self.name=nm\n",
    "      self.salary=sal\n",
    "   def getName(self):\n",
    "      return self.name\n",
    "   def getSalary(self):\n",
    "      return self.salary\n",
    "\n",
    "class SalesOfficer(Employee):\n",
    "   def __init__(self,nm, sal, inc):\n",
    "      super().__init__(nm,sal)\n",
    "      self.incnt=inc\n",
    "   def getSalary(self):\n",
    "      return self.salary+self.incnt\n",
    "\n",
    "e1=Employee(\"Rajesh\", 9000)\n",
    "print (\"Total salary for {} is Rs {}\".format(e1.getName(),e1.getSalary()))\n",
    "s1=SalesOfficer('Kiran', 10000, 1000)\n",
    "print (\"Total salary for {} is Rs {}\".format(s1.getName(),s1.getSalary()))\n"
   ]
  },
  {
   "cell_type": "code",
   "execution_count": 3,
   "id": "c64df6d8-e2d9-46ef-8b47-78eb6cb8c154",
   "metadata": {},
   "outputs": [
    {
     "name": "stdout",
     "output_type": "stream",
     "text": [
      "60\n",
      "30\n"
     ]
    }
   ],
   "source": [
    "#Method overloading\n",
    "class example:\n",
    "   def add(self, a = None, b = None, c = None):\n",
    "      x=0\n",
    "      if a !=None and b != None and c != None:\n",
    "         x = a+b+c\n",
    "      elif a !=None and b != None and c == None:\n",
    "         x = a+b\n",
    "      return x\n",
    "\n",
    "obj = example()\n",
    "\n",
    "print (obj.add(10,20,30))\n",
    "print (obj.add(10,20))"
   ]
  },
  {
   "cell_type": "code",
   "execution_count": 5,
   "id": "c1140190-29ea-408d-a0a4-a93423f541ee",
   "metadata": {},
   "outputs": [
    {
     "name": "stdout",
     "output_type": "stream",
     "text": [
      "Vector (7, 8)\n"
     ]
    }
   ],
   "source": [
    "#Overloading Operators\n",
    "class Vector:\n",
    "   def __init__(self, a, b):\n",
    "      self.a = a\n",
    "      self.b = b\n",
    "\n",
    "   def __str__(self):\n",
    "      return 'Vector (%d, %d)' % (self.a, self.b)\n",
    "   \n",
    "   def __add__(self,other):\n",
    "      return Vector(self.a + other.a, self.b + other.b)\n",
    "\n",
    "v1 = Vector(2,10)\n",
    "v2 = Vector(5,-2)\n",
    "print (v1 + v2)"
   ]
  },
  {
   "cell_type": "code",
   "execution_count": null,
   "id": "985dd0a0-0c1f-4d06-b553-b51ab1c5e610",
   "metadata": {},
   "outputs": [],
   "source": []
  }
 ],
 "metadata": {
  "kernelspec": {
   "display_name": "Python 3 (ipykernel)",
   "language": "python",
   "name": "python3"
  },
  "language_info": {
   "codemirror_mode": {
    "name": "ipython",
    "version": 3
   },
   "file_extension": ".py",
   "mimetype": "text/x-python",
   "name": "python",
   "nbconvert_exporter": "python",
   "pygments_lexer": "ipython3",
   "version": "3.13.5"
  }
 },
 "nbformat": 4,
 "nbformat_minor": 5
}
