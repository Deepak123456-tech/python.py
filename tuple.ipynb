{
 "cells": [
  {
   "cell_type": "code",
   "execution_count": 1,
   "id": "2f1a8cbd-120b-45c5-b59a-dc24692077dc",
   "metadata": {},
   "outputs": [],
   "source": [
    "#tuple example\n",
    "#t=(1,2,'a','codegynan',5.5,[1,23,45],10)\n",
    "\n",
    "#initilize empty tuple\n",
    "#t=()\n",
    "\n",
    "#multiple values tuple\n",
    "#t=(1,2,'a',4.5)\n",
    "\n",
    "#single value tuple\n",
    "#t=(34)"
   ]
  },
  {
   "cell_type": "code",
   "execution_count": 2,
   "id": "f585ed3f-0df8-4fe9-b78a-7dee9bfcc0cb",
   "metadata": {},
   "outputs": [
    {
     "name": "stdout",
     "output_type": "stream",
     "text": [
      "5.5\n",
      "2\n",
      "(2, 1, [1, 23, 45])\n",
      "()\n",
      "(1, 2, 5.5, 'codegyan')\n",
      "(2, 1, [1, 23, 45], 10)\n"
     ]
    }
   ],
   "source": [
    "#indexing and slicable\n",
    "t1=(1,2,'a','codegyan',5.5,2,1,[1,23,45],10)\n",
    "print(t1[4])\n",
    "print(t1[-4])\n",
    "print(t1[-4:-1])\n",
    "print(t1[-3:2:1])\n",
    "print(t1[-3:2:-1])\n",
    "print(t1[5:100:1])"
   ]
  },
  {
   "cell_type": "code",
   "execution_count": 3,
   "id": "413c47e2-1dca-4e30-a88d-fb4cdd2a156a",
   "metadata": {},
   "outputs": [],
   "source": [
    "#tuple reading from user\n",
    "#t=input()\n",
    "#t2=tuple(map(int,t.split()))\n",
    "#print(t2)"
   ]
  },
  {
   "cell_type": "code",
   "execution_count": 4,
   "id": "729d00d3-2415-4a95-ad55-6c13a81759a8",
   "metadata": {},
   "outputs": [
    {
     "name": "stdout",
     "output_type": "stream",
     "text": [
      "(1, 2, 'hi', 3, 4, 'bye')\n"
     ]
    }
   ],
   "source": [
    "#tuple concatination using '+'\n",
    "t3=(1,2,'hi')\n",
    "t4=(3,4,'bye')\n",
    "t5=t3+t4\n",
    "print(t5)"
   ]
  },
  {
   "cell_type": "code",
   "execution_count": 5,
   "id": "1e2e73f2-5bcf-4f98-8115-35fa524e6241",
   "metadata": {},
   "outputs": [
    {
     "name": "stdout",
     "output_type": "stream",
     "text": [
      "(1, 2, 'hi', 1, 2, 'hi', 1, 2, 'hi', 1, 2, 'hi')\n"
     ]
    }
   ],
   "source": [
    "#tuple repeat using '*'\n",
    "t6=(1,2,'hi')\n",
    "print(t6*4)\n"
   ]
  },
  {
   "cell_type": "code",
   "execution_count": 6,
   "id": "dfbf94a3-2169-4d1d-878a-5a6ed4069f3d",
   "metadata": {},
   "outputs": [
    {
     "name": "stdout",
     "output_type": "stream",
     "text": [
      "2\n",
      "7\n"
     ]
    }
   ],
   "source": [
    "#tuple methods\n",
    "#count(value),index()\n",
    "t7=(1,2,'a','codegynan',5.5,2,1,[1,23,34],10)\n",
    "count_1=t7.count(1)\n",
    "print(count_1)\n",
    "index=t7.index([1,23,34])\n",
    "print(index)"
   ]
  },
  {
   "cell_type": "code",
   "execution_count": 7,
   "id": "3fae953b-5880-4b25-a081-1de02f8c3f49",
   "metadata": {},
   "outputs": [
    {
     "name": "stdout",
     "output_type": "stream",
     "text": [
      "1\n",
      "60\n",
      "163\n",
      "6\n"
     ]
    }
   ],
   "source": [
    "#bulit in functions\n",
    "#min(),max(),sum(),len()\n",
    "t=[1,2,20,50,30,60]\n",
    "min_value=min(t)\n",
    "max_value=max(t)\n",
    "sum_tuple=sum(t)\n",
    "length=len(t)\n",
    "print(min_value)\n",
    "print(max_value)\n",
    "print(sum_tuple)\n",
    "print(length)"
   ]
  },
  {
   "cell_type": "code",
   "execution_count": 8,
   "id": "42170a95-50f7-4dd6-a1e0-d0fa1acb138a",
   "metadata": {},
   "outputs": [
    {
     "name": "stdout",
     "output_type": "stream",
     "text": [
      "[1, 2, 20, 30, 50, 60]\n"
     ]
    }
   ],
   "source": [
    "#sorted() not sort\n",
    "t8=(1,2,20,50,30,60)\n",
    "t9=sorted(t8)\n",
    "print(t9)"
   ]
  },
  {
   "cell_type": "code",
   "execution_count": 9,
   "id": "17ecd6e8-01a1-4c25-9acf-212461dab1a0",
   "metadata": {},
   "outputs": [
    {
     "name": "stdout",
     "output_type": "stream",
     "text": [
      "True\n",
      "True\n"
     ]
    }
   ],
   "source": [
    "#membership operators\n",
    "t10=(1,2,20,40,50)\n",
    "print(2 in t10)\n",
    "print(60 not in t10)\n"
   ]
  },
  {
   "cell_type": "code",
   "execution_count": null,
   "id": "415eb7d8-f0fc-49e1-ba90-0a6290849829",
   "metadata": {},
   "outputs": [],
   "source": []
  }
 ],
 "metadata": {
  "kernelspec": {
   "display_name": "Python 3 (ipykernel)",
   "language": "python",
   "name": "python3"
  },
  "language_info": {
   "codemirror_mode": {
    "name": "ipython",
    "version": 3
   },
   "file_extension": ".py",
   "mimetype": "text/x-python",
   "name": "python",
   "nbconvert_exporter": "python",
   "pygments_lexer": "ipython3",
   "version": "3.13.5"
  }
 },
 "nbformat": 4,
 "nbformat_minor": 5
}
