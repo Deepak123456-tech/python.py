{
 "cells": [
  {
   "cell_type": "code",
   "execution_count": 7,
   "id": "572f5846-8b51-4027-bad2-2983579d3615",
   "metadata": {},
   "outputs": [
    {
     "name": "stdout",
     "output_type": "stream",
     "text": [
      "****\n",
      "****\n",
      "****\n",
      "****\n",
      "1\n",
      "12\n",
      "123\n",
      "1234\n",
      "1234\n",
      "234\n",
      "34\n",
      "4\n",
      "* * * * \n",
      "*     * \n",
      "*     * \n",
      "* * * * \n",
      "*     * \n",
      "*   *   \n",
      "* *     \n",
      "*       \n"
     ]
    }
   ],
   "source": [
    "n=4\n",
    "for i in range(n):\n",
    "    for j in range(n):\n",
    "        print(\"*\",end=\"\")\n",
    "    print()\n",
    "\n",
    "\n",
    "\n",
    "n=4\n",
    "for i in range(n):\n",
    "    for j in range(n):\n",
    "        if j<i+1:\n",
    "            print(j+1,end=\"\")\n",
    "        else:\n",
    "            print(\"\",end=\"\")\n",
    "    print()\n",
    "    \n",
    "n=4\n",
    "for i in range(n):\n",
    "    for j in range(n):\n",
    "        if j<i:\n",
    "            print(\"\",end=\"\")\n",
    "        else:\n",
    "            print(j+1,end=\"\")\n",
    "    print()       \n",
    "\n",
    "\n",
    "n=4\n",
    "for i in range(n):\n",
    "    for j in range(n):\n",
    "        if i==0 or i==n-1 or j==0 or j==n-1:\n",
    "            print(\"*\",end=\" \")\n",
    "        else:\n",
    "            print(\" \",end=\" \")\n",
    "    print()\n",
    "    \n",
    "n=4\n",
    "for i in range(n-1,-1,-1):\n",
    "    for j in range(n):\n",
    "        if i==n or j==0 or i==j:\n",
    "            print(\"*\",end=\" \")\n",
    "        else:\n",
    "            print(\" \",end=\" \")\n",
    "    print()\n",
    "\n",
    "    \n"
   ]
  },
  {
   "cell_type": "code",
   "execution_count": 8,
   "id": "4dec20c5-3c8e-4592-95c1-925bbed0600f",
   "metadata": {},
   "outputs": [
    {
     "name": "stdout",
     "output_type": "stream",
     "text": [
      "* * * * * \n",
      "*       * \n",
      "*       * \n",
      "*       * \n",
      "* * * * * \n",
      "*       * \n",
      "*       * \n",
      "*       * \n",
      "*       * \n",
      "*       * \n",
      "* * * * * \n",
      "*     *   \n",
      "*   *     \n",
      "* *       \n",
      "*         \n"
     ]
    }
   ],
   "source": [
    "n=5\n",
    "for i in range(2*n):\n",
    "    for j in range(n):\n",
    "        if i==0 or i==n-1 or j==0 or j==n-1:\n",
    "            print(\"*\",end=\" \")\n",
    "        else:\n",
    "            print(\" \",end=\" \")\n",
    "    print()\n",
    "    \n",
    "for i in range(n):\n",
    "    for j in range(n):\n",
    "        if i==0 or j==0 or i+j==n-1:\n",
    "            print(\"*\",end=\" \")\n",
    "        else:\n",
    "            print(\" \",end=\" \")\n",
    "    print()"
   ]
  },
  {
   "cell_type": "code",
   "execution_count": null,
   "id": "78a8519a-9c74-4b62-8f8e-1ab8c60a1550",
   "metadata": {},
   "outputs": [],
   "source": []
  }
 ],
 "metadata": {
  "kernelspec": {
   "display_name": "Python 3 (ipykernel)",
   "language": "python",
   "name": "python3"
  },
  "language_info": {
   "codemirror_mode": {
    "name": "ipython",
    "version": 3
   },
   "file_extension": ".py",
   "mimetype": "text/x-python",
   "name": "python",
   "nbconvert_exporter": "python",
   "pygments_lexer": "ipython3",
   "version": "3.13.5"
  }
 },
 "nbformat": 4,
 "nbformat_minor": 5
}
