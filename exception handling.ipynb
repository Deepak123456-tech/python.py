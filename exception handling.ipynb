{
 "cells": [
  {
   "cell_type": "code",
   "execution_count": 5,
   "id": "fc02a5ae-cc82-48fc-9fed-1206facb6e7c",
   "metadata": {},
   "outputs": [
    {
     "name": "stdout",
     "output_type": "stream",
     "text": [
      "ott\n"
     ]
    }
   ],
   "source": [
    "#expection handling\n",
    "#try except block\n",
    "try:\n",
    "    res=int('abc')\n",
    "    print(res)\n",
    "except ValueError as e:\n",
    "    print('ott')\n",
    "    \n",
    "    "
   ]
  },
  {
   "cell_type": "code",
   "execution_count": 3,
   "id": "733054db-e074-4fa3-8288-204bf7a5bf64",
   "metadata": {},
   "outputs": [
    {
     "ename": "ValueError",
     "evalue": "invalid literal for int() with base 10: 'abc'",
     "output_type": "error",
     "traceback": [
      "\u001b[31m---------------------------------------------------------------------------\u001b[39m",
      "\u001b[31mValueError\u001b[39m                                Traceback (most recent call last)",
      "\u001b[36mCell\u001b[39m\u001b[36m \u001b[39m\u001b[32mIn[3]\u001b[39m\u001b[32m, line 1\u001b[39m\n\u001b[32m----> \u001b[39m\u001b[32m1\u001b[39m res =\u001b[38;5;28;43mint\u001b[39;49m\u001b[43m(\u001b[49m\u001b[33;43m'\u001b[39;49m\u001b[33;43mabc\u001b[39;49m\u001b[33;43m'\u001b[39;49m\u001b[43m)\u001b[49m\n\u001b[32m      2\u001b[39m \u001b[38;5;28mprint\u001b[39m(res)\n",
      "\u001b[31mValueError\u001b[39m: invalid literal for int() with base 10: 'abc'"
     ]
    }
   ],
   "source": [
    "res =int('abc')\n",
    "print(res)\n",
    "\n",
    "    "
   ]
  },
  {
   "cell_type": "code",
   "execution_count": 2,
   "id": "bfdd48ac-16ee-42a7-9a5b-cd017ecd81b8",
   "metadata": {},
   "outputs": [
    {
     "name": "stdout",
     "output_type": "stream",
     "text": [
      "error in code\n"
     ]
    }
   ],
   "source": [
    "try:\n",
    "    res=int('abc')\n",
    "    print(res)\n",
    "except:\n",
    "    print('error in code')\n",
    "    "
   ]
  },
  {
   "cell_type": "code",
   "execution_count": 4,
   "id": "301622f1-233e-47b6-b604-91a332def81d",
   "metadata": {},
   "outputs": [
    {
     "name": "stdout",
     "output_type": "stream",
     "text": [
      "error id value error\n"
     ]
    }
   ],
   "source": [
    "try:\n",
    "    res=int('abc')\n",
    "    print(res)\n",
    "except ValueError:\n",
    "    print('error id value error')\n",
    "    "
   ]
  },
  {
   "cell_type": "code",
   "execution_count": 5,
   "id": "7a3eee86-a195-4fdf-862a-9f7f38d94e0a",
   "metadata": {},
   "outputs": [
    {
     "name": "stdout",
     "output_type": "stream",
     "text": [
      "error id value error\n"
     ]
    }
   ],
   "source": [
    "try:\n",
    "    res=int('abc')\n",
    "    print(res)\n",
    "except ValueError:\n",
    "    print('error id value error')\n",
    "except Exception as e:\n",
    "    print('error is :e')\n",
    "    "
   ]
  },
  {
   "cell_type": "code",
   "execution_count": 6,
   "id": "2aea7b21-d519-471a-a3f4-525f270f5e57",
   "metadata": {},
   "outputs": [
    {
     "name": "stdout",
     "output_type": "stream",
     "text": [
      "error is :e\n"
     ]
    }
   ],
   "source": [
    "try:\n",
    "    res=10/0\n",
    "    print(res)\n",
    "except ValueError:\n",
    "    print('error id value error')\n",
    "except Exception as e:\n",
    "    print('error is :e')\n",
    "    "
   ]
  },
  {
   "cell_type": "code",
   "execution_count": 9,
   "id": "413b2ddb-81a4-4c2d-aa88-bf79fd3af48f",
   "metadata": {},
   "outputs": [
    {
     "name": "stdout",
     "output_type": "stream",
     "text": [
      "error in code : 'int' object has no attribute 'append'\n"
     ]
    }
   ],
   "source": [
    "try:\n",
    "    num=10\n",
    "    num.append(10)\n",
    "    print(num)\n",
    "except ValueError as e:\n",
    "    print('error id value error')\n",
    "except ZeroDivisionError as e:\n",
    "    print('zero division is not possible :e')\n",
    "except Exception as e:\n",
    "    print('error in code :',e)    \n",
    "    "
   ]
  },
  {
   "cell_type": "code",
   "execution_count": 10,
   "id": "85f9de03-f37b-4512-ac01-6cb8573e7004",
   "metadata": {},
   "outputs": [
    {
     "name": "stdout",
     "output_type": "stream",
     "text": [
      "No exception in code\n",
      "5.0\n",
      "finaaly done\n"
     ]
    }
   ],
   "source": [
    "#try except else finally\n",
    "try:\n",
    "    res=10/2\n",
    "except:\n",
    "    print('Error in code')\n",
    "else:\n",
    "    print(\"No exception in code\")\n",
    "    print(res)\n",
    "finally:\n",
    "    print(\"program  done\")\n",
    "    "
   ]
  },
  {
   "cell_type": "code",
   "execution_count": 11,
   "id": "59331906-3a80-4575-81aa-1a5c8d61f9e1",
   "metadata": {},
   "outputs": [
    {
     "name": "stdout",
     "output_type": "stream",
     "text": [
      "Error in code\n",
      "program  done\n"
     ]
    }
   ],
   "source": [
    "#try except else finally\n",
    "try:\n",
    "    res=10/0\n",
    "except:\n",
    "    print('Error in code')\n",
    "else:\n",
    "    print(\"No exception in code\")\n",
    "    print(res)\n",
    "finally:\n",
    "    print(\"program  done\")\n",
    "    "
   ]
  },
  {
   "cell_type": "code",
   "execution_count": 12,
   "id": "e0bb7934-c655-4da9-bba8-097e07fd5892",
   "metadata": {},
   "outputs": [
    {
     "name": "stdout",
     "output_type": "stream",
     "text": [
      "error in code: division by zero\n"
     ]
    }
   ],
   "source": [
    "#multiple exception in single except block\n",
    "try:\n",
    "    num=10/0\n",
    "  #  num.append(10)\n",
    "    print(num)\n",
    "except( ValueError , ZeroDivisionError)as e:\n",
    "    print('error in code:',e)\n",
    "\n",
    "except Exception as e:\n",
    "    print('error in code :',e)    \n",
    "    "
   ]
  },
  {
   "cell_type": "code",
   "execution_count": 14,
   "id": "d9d51a3d-6578-488d-b245-d15ce2bbdc36",
   "metadata": {},
   "outputs": [
    {
     "name": "stdin",
     "output_type": "stream",
     "text": [
      " -5\n"
     ]
    },
    {
     "name": "stdout",
     "output_type": "stream",
     "text": [
      "Error is : Age can`t be negative\n"
     ]
    }
   ],
   "source": [
    "#custom exceptions \n",
    "class AgeError(Exception):\n",
    "    pass\n",
    "def check_age(age):\n",
    "    if age<0:\n",
    "        raise AgeError(\"Age can`t be negative\")\n",
    "    return age\n",
    "try:\n",
    "    x=int(input())\n",
    "    print(\"currently age is:\",check_age(x))\n",
    "except AgeError as e:\n",
    "    print(\"Error is :\",e)\n",
    "    \n",
    "    "
   ]
  },
  {
   "cell_type": "code",
   "execution_count": null,
   "id": "582b527a-8f49-4a80-b9f5-c5da6721792f",
   "metadata": {},
   "outputs": [],
   "source": []
  }
 ],
 "metadata": {
  "kernelspec": {
   "display_name": "Python 3 (ipykernel)",
   "language": "python",
   "name": "python3"
  },
  "language_info": {
   "codemirror_mode": {
    "name": "ipython",
    "version": 3
   },
   "file_extension": ".py",
   "mimetype": "text/x-python",
   "name": "python",
   "nbconvert_exporter": "python",
   "pygments_lexer": "ipython3",
   "version": "3.13.5"
  }
 },
 "nbformat": 4,
 "nbformat_minor": 5
}
