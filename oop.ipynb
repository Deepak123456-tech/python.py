{
 "cells": [
  {
   "cell_type": "code",
   "execution_count": 8,
   "id": "1715c3ed-8583-4628-ba8f-20447618e373",
   "metadata": {},
   "outputs": [
    {
     "name": "stdout",
     "output_type": "stream",
     "text": [
      "I am from  __init__() \n",
      "srinu\n",
      "75\n",
      "I am from  __init__() \n",
      "babu\n",
      "85\n",
      "I am from  __init__() \n",
      "siva\n",
      "95\n"
     ]
    }
   ],
   "source": [
    "class student:\n",
    "    school =\"ABC class\"\n",
    "    def __init__(self,name=\"srinu\",marks=75):\n",
    "        self.name=name\n",
    "        self.marks=marks\n",
    "        print(\"I am from  __init__() \")\n",
    "s1=student()\n",
    "print(s1.name)\n",
    "print(s1.marks)\n",
    "s2=student(\"babu\",85)\n",
    "print(s2.name)\n",
    "print(s2.marks)\n",
    "s3=student(\"siva\",95)\n",
    "print(s3.name)\n",
    "print(s3.marks)"
   ]
  },
  {
   "cell_type": "code",
   "execution_count": null,
   "id": "0bbe6b78-4fd1-4e0e-8f3d-d62703e8e897",
   "metadata": {},
   "outputs": [],
   "source": []
  }
 ],
 "metadata": {
  "kernelspec": {
   "display_name": "Python 3 (ipykernel)",
   "language": "python",
   "name": "python3"
  },
  "language_info": {
   "codemirror_mode": {
    "name": "ipython",
    "version": 3
   },
   "file_extension": ".py",
   "mimetype": "text/x-python",
   "name": "python",
   "nbconvert_exporter": "python",
   "pygments_lexer": "ipython3",
   "version": "3.13.5"
  }
 },
 "nbformat": 4,
 "nbformat_minor": 5
}
