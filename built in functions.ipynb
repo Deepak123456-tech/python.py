{
 "cells": [
  {
   "cell_type": "code",
   "execution_count": 1,
   "id": "c1bbce78-382e-4b4b-b9ba-30333d1aa472",
   "metadata": {},
   "outputs": [
    {
     "name": "stdout",
     "output_type": "stream",
     "text": [
      "[(1, 'a', 10), (2, 'b', 20), (3, 'c', 30)]\n"
     ]
    }
   ],
   "source": [
    "#bulilt in functions\n",
    "#reverse() #map() #filter() #zip()\n",
    "#zip()\n",
    "l1=[1,2,3,4]\n",
    "l2=['a','b','c','d']\n",
    "l3=[10,20,30]\n",
    "print(list(zip(l1,l2,l3)))\n"
   ]
  },
  {
   "cell_type": "code",
   "execution_count": 3,
   "id": "e1e321e8-5cc2-4315-b30e-7381a33689c7",
   "metadata": {},
   "outputs": [
    {
     "name": "stdout",
     "output_type": "stream",
     "text": [
      "[(0, 'a'), (1, 'b'), (2, 'c'), (3, 'd')]\n"
     ]
    }
   ],
   "source": [
    "#enumerate()\n",
    "l4=['a','b','c','d']\n",
    "print(list(enumerate(l2)))"
   ]
  },
  {
   "cell_type": "code",
   "execution_count": 5,
   "id": "fcfaa4b9-c27f-444d-82e5-c66102acf9e0",
   "metadata": {},
   "outputs": [
    {
     "name": "stdout",
     "output_type": "stream",
     "text": [
      "10\n",
      "10\n"
     ]
    }
   ],
   "source": [
    "#abs()\n",
    "n=10\n",
    "print(abs(n))\n",
    "a,b=10,20\n",
    "print(abs(a-b))\n"
   ]
  },
  {
   "cell_type": "code",
   "execution_count": 6,
   "id": "f0072c7b-09d1-4fdf-b42d-43e69ed519e1",
   "metadata": {},
   "outputs": [
    {
     "name": "stdout",
     "output_type": "stream",
     "text": [
      "65\n"
     ]
    }
   ],
   "source": [
    "#ord()\n",
    "print(ord('A'))\n"
   ]
  },
  {
   "cell_type": "code",
   "execution_count": 8,
   "id": "a007d940-83eb-4bba-80ff-19f3e0a3d632",
   "metadata": {},
   "outputs": [
    {
     "name": "stdout",
     "output_type": "stream",
     "text": [
      "A\n"
     ]
    }
   ],
   "source": [
    "#chr()\n",
    "print(chr(65))\n"
   ]
  },
  {
   "cell_type": "code",
   "execution_count": 2,
   "id": "6d35d903-51ad-4a53-9220-0ed01edfd5b5",
   "metadata": {},
   "outputs": [
    {
     "data": {
      "text/plain": [
       "(2, 4)"
      ]
     },
     "execution_count": 2,
     "metadata": {},
     "output_type": "execute_result"
    }
   ],
   "source": [
    "#filter()\n",
    "def add(x):\n",
    "    if x%2==0:\n",
    "        return x\n",
    "l=[1,2,3,4,5]\n",
    "tuple(filter(add,l))\n"
   ]
  },
  {
   "cell_type": "code",
   "execution_count": 3,
   "id": "5bfd5187-8133-460e-b510-4480f546bfea",
   "metadata": {},
   "outputs": [
    {
     "name": "stdout",
     "output_type": "stream",
     "text": [
      "[1, 4, 9, 16, 25]\n"
     ]
    }
   ],
   "source": [
    "#map()\n",
    "def square(x):\n",
    "    return x*x\n",
    "num=[1,2,3,4,5]\n",
    "l=list(map(square,num))\n",
    "print(l)\n"
   ]
  },
  {
   "cell_type": "code",
   "execution_count": 5,
   "id": "0460132f-2914-4fe8-861c-0ab9d37570fa",
   "metadata": {},
   "outputs": [
    {
     "name": "stdout",
     "output_type": "stream",
     "text": [
      "nanygedoc\n"
     ]
    }
   ],
   "source": [
    "#reversed()\n",
    "s='codegynan'\n",
    "print(\"\".join(list(reversed(s))))\n"
   ]
  },
  {
   "cell_type": "code",
   "execution_count": 9,
   "id": "91d856b1-af3a-4a64-b255-5b59427f5c55",
   "metadata": {},
   "outputs": [
    {
     "name": "stdout",
     "output_type": "stream",
     "text": [
      "0b1101\n",
      "0o31\n",
      "0x64\n",
      "10.25\n"
     ]
    }
   ],
   "source": [
    "#bin()#hex()#oct()#round()\n",
    "print(bin(13))\n",
    "print(oct(25))\n",
    "print(hex(100))\n",
    "print(round(10.252653,2))\n",
    "\n"
   ]
  },
  {
   "cell_type": "code",
   "execution_count": null,
   "id": "169bb3a3-d565-4d12-be0a-14e4b0dc3e0f",
   "metadata": {},
   "outputs": [],
   "source": []
  }
 ],
 "metadata": {
  "kernelspec": {
   "display_name": "Python 3 (ipykernel)",
   "language": "python",
   "name": "python3"
  },
  "language_info": {
   "codemirror_mode": {
    "name": "ipython",
    "version": 3
   },
   "file_extension": ".py",
   "mimetype": "text/x-python",
   "name": "python",
   "nbconvert_exporter": "python",
   "pygments_lexer": "ipython3",
   "version": "3.13.5"
  }
 },
 "nbformat": 4,
 "nbformat_minor": 5
}
