{
 "cells": [
  {
   "cell_type": "code",
   "execution_count": 2,
   "id": "beb542c7-990d-49c2-bc71-997c1d434c34",
   "metadata": {},
   "outputs": [
    {
     "name": "stdout",
     "output_type": "stream",
     "text": [
      "4\n"
     ]
    }
   ],
   "source": [
    "#anonymous function\n",
    "add=lambda x:x+2\n",
    "print(add(2))\n"
   ]
  },
  {
   "cell_type": "code",
   "execution_count": 3,
   "id": "d62abc5d-88a7-4cd4-9b71-cba2c0f2244e",
   "metadata": {},
   "outputs": [
    {
     "name": "stdout",
     "output_type": "stream",
     "text": [
      "25\n"
     ]
    }
   ],
   "source": [
    "square =lambda x:x**2\n",
    "print(square(5))\n"
   ]
  },
  {
   "cell_type": "code",
   "execution_count": 4,
   "id": "b4e6cb93-fc57-4c52-93c5-eb46fd90e0de",
   "metadata": {},
   "outputs": [
    {
     "name": "stdout",
     "output_type": "stream",
     "text": [
      "[1, 4, 9, 16, 25, 36]\n"
     ]
    }
   ],
   "source": [
    "#lambda with map\n",
    "l=[1,2,3,4,5,6]\n",
    "print(list(map(lambda x:x**2,l)))"
   ]
  },
  {
   "cell_type": "code",
   "execution_count": 5,
   "id": "bae2f3e8-2651-4a00-800e-5ff9e5d60254",
   "metadata": {},
   "outputs": [
    {
     "name": "stdout",
     "output_type": "stream",
     "text": [
      "[1, 2, 6]\n"
     ]
    }
   ],
   "source": [
    "#filter with lambda\n",
    "l=[1,2,-3,-4,-5,6]\n",
    "print(list(filter(lambda x:x>0,l)))\n"
   ]
  },
  {
   "cell_type": "code",
   "execution_count": null,
   "id": "66ca19ea-3ded-459a-937f-e82488c12f80",
   "metadata": {},
   "outputs": [],
   "source": []
  }
 ],
 "metadata": {
  "kernelspec": {
   "display_name": "Python 3 (ipykernel)",
   "language": "python",
   "name": "python3"
  },
  "language_info": {
   "codemirror_mode": {
    "name": "ipython",
    "version": 3
   },
   "file_extension": ".py",
   "mimetype": "text/x-python",
   "name": "python",
   "nbconvert_exporter": "python",
   "pygments_lexer": "ipython3",
   "version": "3.13.5"
  }
 },
 "nbformat": 4,
 "nbformat_minor": 5
}
