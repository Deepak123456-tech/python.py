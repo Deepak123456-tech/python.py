{
 "cells": [
  {
   "cell_type": "code",
   "execution_count": 1,
   "id": "9fcc9530-c1d1-41c5-a01b-579669003bd5",
   "metadata": {},
   "outputs": [
    {
     "name": "stdout",
     "output_type": "stream",
     "text": [
      "<class 'tuple'> <class 'dict'>\n"
     ]
    }
   ],
   "source": [
    "#empty dictionary\n",
    "d1=()\n",
    "d2=dict()\n",
    "print(type(d1),type(d2))"
   ]
  },
  {
   "cell_type": "code",
   "execution_count": 2,
   "id": "83abcee8-2dde-4025-8c59-0ad7d9228da4",
   "metadata": {},
   "outputs": [
    {
     "name": "stdout",
     "output_type": "stream",
     "text": [
      "1\n"
     ]
    }
   ],
   "source": [
    "#acesiing  values using keys\n",
    "d3={'a':1,3:'codegnan'}\n",
    "print(d3['a'])"
   ]
  },
  {
   "cell_type": "code",
   "execution_count": 3,
   "id": "d52b2076-595c-4141-8086-a80cb4631aa9",
   "metadata": {},
   "outputs": [
    {
     "name": "stdout",
     "output_type": "stream",
     "text": [
      "{'language': 'java'}\n"
     ]
    }
   ],
   "source": [
    "#adding or updating the items\n",
    "d4={'language':'python'}\n",
    "d4['language']='java'\n",
    "print(d4)"
   ]
  },
  {
   "cell_type": "code",
   "execution_count": 4,
   "id": "015a142e-51b9-4f72-8880-8bceca3b33ba",
   "metadata": {},
   "outputs": [
    {
     "name": "stdout",
     "output_type": "stream",
     "text": [
      "dict_keys(['language', 'version', 'level'])\n",
      "dict_values(['python', '3.13.5', 'high level'])\n",
      "dict_items([('language', 'python'), ('version', '3.13.5'), ('level', 'high level')])\n"
     ]
    }
   ],
   "source": [
    "#dictionary methods\n",
    "#keys(),values(),items()\n",
    "d5={'language':'python','version':'3.13.5','level':'high level'}\n",
    "keys=d5.keys()\n",
    "values=d5.values()\n",
    "items=d5.items()\n",
    "print(keys)\n",
    "print(values)\n",
    "print(items)\n",
    "#a,b=list((items)[1])\n",
    "#a,b=items_list[1]\n",
    "#print(a,b)"
   ]
  },
  {
   "cell_type": "code",
   "execution_count": 5,
   "id": "adc82cd7-33c3-4045-b75d-39c5eafa6bce",
   "metadata": {},
   "outputs": [
    {
     "name": "stdout",
     "output_type": "stream",
     "text": [
      "high level\n",
      "{'language': 'java', 'version': '3.13.5', 'level': 'high level'}\n",
      "{'language': 'java', 'version': '3.13.5', 'level': 'high level'}\n",
      "{}\n"
     ]
    }
   ],
   "source": [
    "#pop(key),pop(item)\n",
    "d6={'language':'python','version':'3.13.5','level':'high level'}\n",
    "val=d6.pop('level')\n",
    "print(val)\n",
    "#items=d6.pop(items('3.13.5'))\n",
    "#print(items)\n",
    "#print(d6)\n",
    "\n",
    "#update(),clear()\n",
    "d7={'language':'python','version':'3.13.5','level':'high level'}\n",
    "d8={'language':'java','version':'3.13.5','level':'high level'}\n",
    "d7.update(d8)\n",
    "print(d7)\n",
    "print(d8)\n",
    "\n",
    "#clear()\n",
    "d9={'language':'python','version':'3.13.5','level':'high level'}\n",
    "d9.clear()\n",
    "print(d9)\n"
   ]
  },
  {
   "cell_type": "code",
   "execution_count": null,
   "id": "536a7446-65ee-44cb-8efd-773c45ca6e68",
   "metadata": {},
   "outputs": [],
   "source": []
  }
 ],
 "metadata": {
  "kernelspec": {
   "display_name": "Python 3 (ipykernel)",
   "language": "python",
   "name": "python3"
  },
  "language_info": {
   "codemirror_mode": {
    "name": "ipython",
    "version": 3
   },
   "file_extension": ".py",
   "mimetype": "text/x-python",
   "name": "python",
   "nbconvert_exporter": "python",
   "pygments_lexer": "ipython3",
   "version": "3.13.5"
  }
 },
 "nbformat": 4,
 "nbformat_minor": 5
}
