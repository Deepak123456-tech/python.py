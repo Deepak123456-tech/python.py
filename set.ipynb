{
 "cells": [
  {
   "cell_type": "code",
   "execution_count": 1,
   "id": "572f5846-8b51-4027-bad2-2983579d3615",
   "metadata": {},
   "outputs": [
    {
     "name": "stdout",
     "output_type": "stream",
     "text": [
      "{'a', 2, 'codegnan', 1}\n"
     ]
    }
   ],
   "source": [
    "#example\n",
    "s={1,2,'a','codegnan'}\n",
    "print(s)\n"
   ]
  },
  {
   "cell_type": "code",
   "execution_count": 2,
   "id": "cc0f3def-4bd6-4ece-bcac-f016f199981c",
   "metadata": {},
   "outputs": [
    {
     "name": "stdout",
     "output_type": "stream",
     "text": [
      "<class 'dict'> <class 'set'>\n"
     ]
    }
   ],
   "source": [
    "#empty set\n",
    "s1={}\n",
    "s2=set()\n",
    "print(type(s1),type(s2))\n"
   ]
  },
  {
   "cell_type": "code",
   "execution_count": 3,
   "id": "ffed066c-07f0-47a7-8667-7f20c310c641",
   "metadata": {},
   "outputs": [
    {
     "name": "stdout",
     "output_type": "stream",
     "text": [
      "{1, 2, 3, 100, 4}\n",
      "{1, 2, 3, 100, 4, 10, 20}\n",
      "{1, 3, 100, 4, 10, 20}\n",
      "{1, 3, 4, 10, 20}\n",
      "1 {3, 4, 10, 20}\n",
      "set()\n"
     ]
    }
   ],
   "source": [
    "#set methods\n",
    "s={1,2,3,4}\n",
    "s.add(100)\n",
    "print(s)\n",
    "s.update([10,20])\n",
    "print(s)\n",
    "s.remove(2)\n",
    "print(s)\n",
    "s.discard(100)\n",
    "print(s)\n",
    "val=s.pop()\n",
    "print(val,s)\n",
    "s.clear()\n",
    "print(s)\n"
   ]
  },
  {
   "cell_type": "code",
   "execution_count": 4,
   "id": "290eb25f-9a0d-4600-804f-d516d4620530",
   "metadata": {},
   "outputs": [
    {
     "name": "stdout",
     "output_type": "stream",
     "text": [
      "{1, 2, 3, 4, 5, 6}\n",
      "{1, 2, 3, 4, 5, 6} {3, 4} {1, 2} {1, 2, 5, 6}\n"
     ]
    }
   ],
   "source": [
    "#union ,interssecton,difference,symmetric diffrence\n",
    "s1={1,2,3,4}\n",
    "s2={3,4,5,6}\n",
    "union=s1.union(s2)\n",
    "print(s1.union(s2))\n",
    "intersection=s1.intersection(s2)\n",
    "difference=s1.difference(s2)\n",
    "symmetric_difference=s1.symmetric_difference(s2)\n",
    "print(union,intersection,difference,symmetric_difference)"
   ]
  },
  {
   "cell_type": "code",
   "execution_count": 5,
   "id": "5ec9b10b-54cc-422a-a0a7-f8049a1d1ff2",
   "metadata": {},
   "outputs": [
    {
     "name": "stdout",
     "output_type": "stream",
     "text": [
      "False\n",
      "False\n",
      "True\n",
      "False\n"
     ]
    }
   ],
   "source": [
    "#issubset(),issuperset(),isdisjoint()\n",
    "s1={1,2,3,4,5,6}\n",
    "s2={3,4,5,6}\n",
    "print(s1.issubset(s2))\n",
    "print(s1.issubset(s2))\n",
    "print(s1.issuperset(s2))\n",
    "print(s1.isdisjoint(s2))\n"
   ]
  },
  {
   "cell_type": "code",
   "execution_count": null,
   "id": "22be0667-867e-457b-bf2e-fe24dff508df",
   "metadata": {},
   "outputs": [],
   "source": []
  }
 ],
 "metadata": {
  "kernelspec": {
   "display_name": "Python 3 (ipykernel)",
   "language": "python",
   "name": "python3"
  },
  "language_info": {
   "codemirror_mode": {
    "name": "ipython",
    "version": 3
   },
   "file_extension": ".py",
   "mimetype": "text/x-python",
   "name": "python",
   "nbconvert_exporter": "python",
   "pygments_lexer": "ipython3",
   "version": "3.13.5"
  }
 },
 "nbformat": 4,
 "nbformat_minor": 5
}
