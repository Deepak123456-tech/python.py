{
 "cells": [
  {
   "cell_type": "code",
   "execution_count": 1,
   "id": "107419c9-c8ac-4815-926b-2c03e586bd46",
   "metadata": {},
   "outputs": [
    {
     "name": "stdout",
     "output_type": "stream",
     "text": [
      "15\n",
      "10\n"
     ]
    }
   ],
   "source": [
    "#pass by value\n",
    "#functon definition\n",
    "def add(x):\n",
    "    x=x+5\n",
    "    print(x)\n",
    "#funcction calling\n",
    "a=10\n",
    "add(a)\n",
    "print(a)\n"
   ]
  },
  {
   "cell_type": "code",
   "execution_count": 2,
   "id": "6b772297-c7a7-45f3-9ebe-cad887042744",
   "metadata": {},
   "outputs": [
    {
     "name": "stdout",
     "output_type": "stream",
     "text": [
      "inside functon definition [1, 2, 3, 4, 10]\n",
      "outside function [1, 2, 3, 4, 10]\n"
     ]
    }
   ],
   "source": [
    "#pass by reference\n",
    "#function calling\n",
    "def add_ele_list(list,ele):\n",
    "    list.append(ele)\n",
    "    print(\"inside functon definition\",list)\n",
    "#function calling\n",
    "l=[1,2,3,4]\n",
    "ele=10\n",
    "add_ele_list(l,ele)\n",
    "print(\"outside function\",l)\n"
   ]
  },
  {
   "cell_type": "code",
   "execution_count": null,
   "id": "cbb4a8f8-7c71-4de4-8694-cf7aae36c733",
   "metadata": {},
   "outputs": [],
   "source": []
  }
 ],
 "metadata": {
  "kernelspec": {
   "display_name": "Python 3 (ipykernel)",
   "language": "python",
   "name": "python3"
  },
  "language_info": {
   "codemirror_mode": {
    "name": "ipython",
    "version": 3
   },
   "file_extension": ".py",
   "mimetype": "text/x-python",
   "name": "python",
   "nbconvert_exporter": "python",
   "pygments_lexer": "ipython3",
   "version": "3.13.5"
  }
 },
 "nbformat": 4,
 "nbformat_minor": 5
}
