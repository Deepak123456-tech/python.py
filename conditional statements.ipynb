{
 "cells": [
  {
   "cell_type": "code",
   "execution_count": 1,
   "id": "c0e0eeeb-412f-419c-9ae0-7d01ab7ddec5",
   "metadata": {},
   "outputs": [
    {
     "name": "stdin",
     "output_type": "stream",
     "text": [
      " 1\n"
     ]
    },
    {
     "name": "stdout",
     "output_type": "stream",
     "text": [
      "1 is positive\n"
     ]
    }
   ],
   "source": [
    "# Write a program to check whether a number is positive or negative.\n",
    "num = int(input())\n",
    "if num >= 0:\n",
    "    print(f'{num} is positive')\n",
    "else:\n",
    "    print(f'{num} is Negitive')"
   ]
  },
  {
   "cell_type": "code",
   "execution_count": 2,
   "id": "e67d628d-8e6a-4cd2-a211-8b9f155ae1c4",
   "metadata": {},
   "outputs": [
    {
     "name": "stdin",
     "output_type": "stream",
     "text": [
      " 1\n"
     ]
    },
    {
     "name": "stdout",
     "output_type": "stream",
     "text": [
      "1 is odd\n"
     ]
    }
   ],
   "source": [
    "# Check whether a number is even or odd.\n",
    "num = int(input())\n",
    "if num%2 == 0:\n",
    "    print(f'{num} is even')\n",
    "else:\n",
    "    print(f'{num} is odd')"
   ]
  },
  {
   "cell_type": "code",
   "execution_count": 5,
   "id": "37fb96d0-3622-452c-8109-1ef389935573",
   "metadata": {},
   "outputs": [
    {
     "name": "stdin",
     "output_type": "stream",
     "text": [
      " 1 2\n"
     ]
    },
    {
     "name": "stdout",
     "output_type": "stream",
     "text": [
      "2 is big\n"
     ]
    }
   ],
   "source": [
    "#Find the greater of two numbers.\n",
    "n1,n2 = map(int, input().split())\n",
    "if n1 > n2:\n",
    "    print(f\"{n1} is big\")\n",
    "else:\n",
    "    print(f\"{n2} is big\")"
   ]
  },
  {
   "cell_type": "code",
   "execution_count": 6,
   "id": "93f77f64-922a-410f-a106-7ffdac5db13b",
   "metadata": {},
   "outputs": [
    {
     "name": "stdin",
     "output_type": "stream",
     "text": [
      " 1 2 3\n"
     ]
    },
    {
     "name": "stdout",
     "output_type": "stream",
     "text": [
      "3 is big\n"
     ]
    }
   ],
   "source": [
    "# Find the largest among three numbers\n",
    "a,b,c = map(int,input().split())\n",
    "if a>b and a > c:\n",
    "    print(f\"{a} is big\")\n",
    "elif b > a and b > c:\n",
    "    print(f\"{b} is big\")\n",
    "else:\n",
    "    print(f\"{c} is big\")\n"
   ]
  },
  {
   "cell_type": "code",
   "execution_count": 7,
   "id": "12b5aac2-a503-4ede-b25d-339f9289f9ca",
   "metadata": {},
   "outputs": [
    {
     "name": "stdin",
     "output_type": "stream",
     "text": [
      " 1\n"
     ]
    },
    {
     "name": "stdout",
     "output_type": "stream",
     "text": [
      "1 is not divisiable by 5 and 11\n"
     ]
    }
   ],
   "source": [
    "# Check if a number is divisible by 5 and 11.\n",
    "num = int(input())\n",
    "if num % 5==0 and num % 11 ==0:\n",
    "    print(f'{num} is divisiable by 5 and 11')\n",
    "else:\n",
    "    print(f'{num} is not divisiable by 5 and 11')\n"
   ]
  },
  {
   "cell_type": "code",
   "execution_count": 8,
   "id": "1789d4c5-ec1c-48be-b569-3a7edd13e938",
   "metadata": {},
   "outputs": [
    {
     "name": "stdin",
     "output_type": "stream",
     "text": [
      " 2000\n"
     ]
    },
    {
     "name": "stdout",
     "output_type": "stream",
     "text": [
      "2000 is leap year\n"
     ]
    }
   ],
   "source": [
    "# Check if a year is a leap year.\n",
    "year = int(input())\n",
    "if (year % 4 ==0 and year % 100 !=0) or year % 400 == 0:\n",
    "    print(f'{year} is leap year')\n",
    "else:\n",
    "    print(f'{year} is not leap year')"
   ]
  },
  {
   "cell_type": "code",
   "execution_count": 9,
   "id": "af7177fc-7467-4ac0-bfb1-486e62f198cf",
   "metadata": {},
   "outputs": [
    {
     "name": "stdin",
     "output_type": "stream",
     "text": [
      " deepak\n"
     ]
    },
    {
     "name": "stdout",
     "output_type": "stream",
     "text": [
      "deepak is consonat\n"
     ]
    }
   ],
   "source": [
    "# Check whether a character is a vowel or a consonant.\n",
    "v = {'a','e','i','o','u','A','E','I','O','U'}\n",
    "char = input()\n",
    "if char in v:\n",
    "    print(f\"{char} is Vowel\")\n",
    "else:\n",
    "    print(f\"{char} is consonat\")"
   ]
  },
  {
   "cell_type": "code",
   "execution_count": 10,
   "id": "2f9aae23-fc4c-4d62-9141-1451e074592a",
   "metadata": {},
   "outputs": [
    {
     "name": "stdin",
     "output_type": "stream",
     "text": [
      " 1\n"
     ]
    },
    {
     "name": "stdout",
     "output_type": "stream",
     "text": [
      "1 is a not multiple of 3 or 7\n"
     ]
    }
   ],
   "source": [
    "# Check whether a number is a multiple of 3 or 7.\n",
    "num = int(input())\n",
    "if num % 3 == 0 or num % 7 ==0:\n",
    "    print(f'{num} is a multiple of 3 or 7')\n",
    "else:\n",
    "    print(f'{num} is a not multiple of 3 or 7')"
   ]
  },
  {
   "cell_type": "code",
   "execution_count": 11,
   "id": "a8a47d08-21aa-4aaa-8ea2-a12f302badd4",
   "metadata": {},
   "outputs": [
    {
     "name": "stdin",
     "output_type": "stream",
     "text": [
      " deepak\n"
     ]
    },
    {
     "name": "stdout",
     "output_type": "stream",
     "text": [
      "deepak is lower\n"
     ]
    }
   ],
   "source": [
    "# Check whether a character is uppercase, lowercase, digit, or special symbol\n",
    "char = input()\n",
    "if char.islower():\n",
    "    print(f'{char} is lower')\n",
    "elif char.isupper():\n",
    "    print(f'{char} is upper')\n",
    "elif char.isdigit():\n",
    "    print(f'{char} is digit')\n",
    "else:\n",
    "    print(f'{char} is special symbol')\n"
   ]
  },
  {
   "cell_type": "code",
   "execution_count": null,
   "id": "6e2bf646-e998-4bff-ac05-0887f566dd24",
   "metadata": {},
   "outputs": [],
   "source": []
  }
 ],
 "metadata": {
  "kernelspec": {
   "display_name": "Python 3 (ipykernel)",
   "language": "python",
   "name": "python3"
  },
  "language_info": {
   "codemirror_mode": {
    "name": "ipython",
    "version": 3
   },
   "file_extension": ".py",
   "mimetype": "text/x-python",
   "name": "python",
   "nbconvert_exporter": "python",
   "pygments_lexer": "ipython3",
   "version": "3.13.5"
  }
 },
 "nbformat": 4,
 "nbformat_minor": 5
}
