{
 "cells": [
  {
   "cell_type": "code",
   "execution_count": 1,
   "id": "dd0e51c7-811f-4e72-81c4-d3a49385b4a4",
   "metadata": {},
   "outputs": [
    {
     "name": "stdout",
     "output_type": "stream",
     "text": [
      "Animal speaks\n",
      "Dog barks\n"
     ]
    }
   ],
   "source": [
    "#types of inheritance\n",
    "#single inheritance\n",
    "class Animal:\n",
    "    def speak(self):\n",
    "        print(\"Animal speaks\")\n",
    "\n",
    "class Dog(Animal):\n",
    "    def bark(self):\n",
    "        print(\"Dog barks\")\n",
    "\n",
    "# Usage\n",
    "d = Dog()\n",
    "d.speak()  # From parent\n",
    "d.bark()   # From child\n"
   ]
  },
  {
   "cell_type": "code",
   "execution_count": 2,
   "id": "dc83e594-cd67-406a-9acf-1bc216cfe005",
   "metadata": {},
   "outputs": [
    {
     "name": "stdout",
     "output_type": "stream",
     "text": [
      "Can fly\n",
      "Can swim\n",
      "Duck quacks\n"
     ]
    }
   ],
   "source": [
    "#multiple inheritance\n",
    "class Flyable:\n",
    "    def fly(self):\n",
    "        print(\"Can fly\")\n",
    "\n",
    "class Swimmable:\n",
    "    def swim(self):\n",
    "        print(\"Can swim\")\n",
    "\n",
    "class Duck(Flyable, Swimmable):\n",
    "    def quack(self):\n",
    "        print(\"Duck quacks\")\n",
    "\n",
    "# Usage\n",
    "d = Duck()\n",
    "d.fly()\n",
    "d.swim()\n",
    "d.quack()\n"
   ]
  },
  {
   "cell_type": "code",
   "execution_count": 3,
   "id": "1916e73b-92ee-410d-a417-45629a68594e",
   "metadata": {},
   "outputs": [
    {
     "name": "stdout",
     "output_type": "stream",
     "text": [
      "Animal speaks\n",
      "Dog barks\n",
      "Puppy weeps\n"
     ]
    }
   ],
   "source": [
    "#multilevel inheritance\n",
    "class Animal:\n",
    "    def speak(self):\n",
    "        print(\"Animal speaks\")\n",
    "\n",
    "class Dog(Animal):\n",
    "    def bark(self):\n",
    "        print(\"Dog barks\")\n",
    "\n",
    "class Puppy(Dog):\n",
    "    def weep(self):\n",
    "        print(\"Puppy weeps\")\n",
    "\n",
    "# Usage\n",
    "p = Puppy()\n",
    "p.speak()\n",
    "p.bark()\n",
    "p.weep()\n"
   ]
  },
  {
   "cell_type": "code",
   "execution_count": 4,
   "id": "974f7a22-888b-4d0a-9b59-a6bf1e902916",
   "metadata": {},
   "outputs": [
    {
     "name": "stdout",
     "output_type": "stream",
     "text": [
      "Animal speaks\n",
      "Dog barks\n",
      "Animal speaks\n",
      "Cat meows\n"
     ]
    }
   ],
   "source": [
    "#hirarcial inheritance\n",
    "class Animal:\n",
    "    def speak(self):\n",
    "        print(\"Animal speaks\")\n",
    "\n",
    "class Dog(Animal):\n",
    "    def bark(self):\n",
    "        print(\"Dog barks\")\n",
    "\n",
    "class Cat(Animal):\n",
    "    def meow(self):\n",
    "        print(\"Cat meows\")\n",
    "\n",
    "# Usage\n",
    "dog = Dog()\n",
    "cat = Cat()\n",
    "dog.speak()\n",
    "dog.bark()\n",
    "cat.speak()\n",
    "cat.meow()\n"
   ]
  },
  {
   "cell_type": "code",
   "execution_count": 5,
   "id": "50dec9a1-9d3a-4c26-bb9c-2d7623507060",
   "metadata": {},
   "outputs": [
    {
     "name": "stdout",
     "output_type": "stream",
     "text": [
      "Animal speaks\n",
      "Dog barks\n",
      "Is a pet\n",
      "Puppy weeps\n"
     ]
    }
   ],
   "source": [
    "#hybrid inheritance\n",
    "class Animal:\n",
    "    def speak(self):\n",
    "        print(\"Animal speaks\")\n",
    "\n",
    "class Dog(Animal):\n",
    "    def bark(self):\n",
    "        print(\"Dog barks\")\n",
    "\n",
    "class Pet:\n",
    "    def is_pet(self):\n",
    "        print(\"Is a pet\")\n",
    "\n",
    "class Puppy(Dog, Pet):\n",
    "    def weep(self):\n",
    "        print(\"Puppy weeps\")\n",
    "\n",
    "# Usage\n",
    "p = Puppy()\n",
    "p.speak()    # From Animal\n",
    "p.bark()     # From Dog\n",
    "p.is_pet()   # From Pet\n",
    "p.weep()     # Own method\n"
   ]
  },
  {
   "cell_type": "code",
   "execution_count": 6,
   "id": "2e78dae8-eeef-4aed-a6ad-f5f6309b9bc2",
   "metadata": {},
   "outputs": [
    {
     "name": "stdout",
     "output_type": "stream",
     "text": [
      "Animal: Tommy\n",
      "Dog: Labrador\n"
     ]
    }
   ],
   "source": [
    "#Example using super() (Single Inheritance)\n",
    "class Animal:\n",
    "    def __init__(self, name):\n",
    "        self.name = name\n",
    "        print(f\"Animal: {self.name}\")\n",
    "\n",
    "class Dog(Animal):\n",
    "    def __init__(self, name, breed):\n",
    "        super().__init__(name)  # Call parent constructor\n",
    "        self.breed = breed\n",
    "        print(f\"Dog: {self.breed}\")\n",
    "\n",
    "# Usage\n",
    "d = Dog(\"Tommy\", \"Labrador\")\n"
   ]
  },
  {
   "cell_type": "code",
   "execution_count": 7,
   "id": "9ec203f0-c910-4d12-94ec-8cb94e69d417",
   "metadata": {},
   "outputs": [
    {
     "name": "stdout",
     "output_type": "stream",
     "text": [
      "D\n",
      "B\n",
      "C\n",
      "A\n",
      "MRO: ['D', 'B', 'C', 'A', 'object']\n"
     ]
    }
   ],
   "source": [
    "#Example: super() in Multiple Inheritance\n",
    "class A:\n",
    "    def show(self):\n",
    "        print(\"A\")\n",
    "\n",
    "class B(A):\n",
    "    def show(self):\n",
    "        print(\"B\")\n",
    "        super().show()\n",
    "\n",
    "class C(A):\n",
    "    def show(self):\n",
    "        print(\"C\")\n",
    "        super().show()\n",
    "\n",
    "class D(B, C):  # Multiple inheritance\n",
    "    def show(self):\n",
    "        print(\"D\")\n",
    "        super().show()\n",
    "\n",
    "# Usage\n",
    "d = D()\n",
    "d.show()\n",
    "\n",
    "# View Method Resolution Order\n",
    "print(\"MRO:\", [cls.__name__ for cls in D.mro()])\n"
   ]
  },
  {
   "cell_type": "code",
   "execution_count": null,
   "id": "d1923832-79b5-4e63-bf54-7d3b993721da",
   "metadata": {},
   "outputs": [],
   "source": []
  }
 ],
 "metadata": {
  "kernelspec": {
   "display_name": "Python 3 (ipykernel)",
   "language": "python",
   "name": "python3"
  },
  "language_info": {
   "codemirror_mode": {
    "name": "ipython",
    "version": 3
   },
   "file_extension": ".py",
   "mimetype": "text/x-python",
   "name": "python",
   "nbconvert_exporter": "python",
   "pygments_lexer": "ipython3",
   "version": "3.13.5"
  }
 },
 "nbformat": 4,
 "nbformat_minor": 5
}
