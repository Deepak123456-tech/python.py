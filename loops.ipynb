{
 "cells": [
  {
   "cell_type": "code",
   "execution_count": 1,
   "id": "572f5846-8b51-4027-bad2-2983579d3615",
   "metadata": {},
   "outputs": [
    {
     "name": "stdout",
     "output_type": "stream",
     "text": [
      "0\n",
      "1\n",
      "2\n",
      "3\n"
     ]
    }
   ],
   "source": [
    "n = 4\n",
    "for i in range(0, n):\n",
    "    print(i)\n"
   ]
  },
  {
   "cell_type": "code",
   "execution_count": 2,
   "id": "ca4705a9-4e7d-46f6-8b4c-c0d8372e7b2c",
   "metadata": {},
   "outputs": [
    {
     "name": "stdout",
     "output_type": "stream",
     "text": [
      "geeks\n",
      "for\n",
      "geeks\n",
      "Inside Else Block\n"
     ]
    }
   ],
   "source": [
    "li = [\"geeks\", \"for\", \"geeks\"]\n",
    "for index in range(len(li)):\n",
    "    print(li[index])\n",
    "else:\n",
    "    print(\"Inside Else Block\")"
   ]
  },
  {
   "cell_type": "code",
   "execution_count": 3,
   "id": "09992bd6-acaf-4fd7-857b-758908f2ef30",
   "metadata": {},
   "outputs": [
    {
     "name": "stdout",
     "output_type": "stream",
     "text": [
      "Hello Geek\n",
      "Hello Geek\n",
      "Hello Geek\n"
     ]
    }
   ],
   "source": [
    "cnt = 0\n",
    "while (cnt < 3):\n",
    "    cnt = cnt + 1\n",
    "    print(\"Hello Geek\")"
   ]
  },
  {
   "cell_type": "code",
   "execution_count": 4,
   "id": "bbac6e98-6a80-441a-96cc-7c2dc56d7824",
   "metadata": {},
   "outputs": [
    {
     "name": "stdout",
     "output_type": "stream",
     "text": [
      "Hello \n",
      "Hello \n",
      "Hello \n",
      "In Else Block\n"
     ]
    }
   ],
   "source": [
    "cnt = 0\n",
    "while (cnt < 3):\n",
    "    cnt = cnt + 1\n",
    "    print(\"Hello \")\n",
    "else:\n",
    "    print(\"In Else Block\")\n"
   ]
  },
  {
   "cell_type": "code",
   "execution_count": null,
   "id": "8c1b4722-e013-45b3-9aa7-c8b9326e57e0",
   "metadata": {},
   "outputs": [],
   "source": [
    "while (True):\n",
    "    print(\"Hello \")\n",
    "\n",
    "for i in range(1, 5):\n",
    "    for j in range(i):\n",
    "        print(i, end=' ')"
   ]
  },
  {
   "cell_type": "code",
   "execution_count": null,
   "id": "8fe402c5-fb1c-4198-bc11-7e15cb541526",
   "metadata": {},
   "outputs": [],
   "source": [
    "for letter in 'gets':\n",
    "    if letter == 'e' or letter == 's':\n",
    "        continue\n",
    "    print('Current Letter :', letter)"
   ]
  },
  {
   "cell_type": "code",
   "execution_count": null,
   "id": "4364430b-2aed-4708-b29e-e1f2360e2646",
   "metadata": {},
   "outputs": [],
   "source": [
    "for letter in 'gets':\n",
    "    if letter == 'e' or letter == 's':\n",
    "        break\n",
    "\n",
    "print('Current Letter :', letter)\n"
   ]
  },
  {
   "cell_type": "code",
   "execution_count": null,
   "id": "d211a1a4-262f-4fac-8c37-36f0fe2ee86a",
   "metadata": {},
   "outputs": [],
   "source": [
    "for letter in 'gets':\n",
    "    pass\n",
    "print('Last Letter :', letter)\n"
   ]
  }
 ],
 "metadata": {
  "kernelspec": {
   "display_name": "Python 3 (ipykernel)",
   "language": "python",
   "name": "python3"
  },
  "language_info": {
   "codemirror_mode": {
    "name": "ipython",
    "version": 3
   },
   "file_extension": ".py",
   "mimetype": "text/x-python",
   "name": "python",
   "nbconvert_exporter": "python",
   "pygments_lexer": "ipython3",
   "version": "3.13.5"
  }
 },
 "nbformat": 4,
 "nbformat_minor": 5
}
